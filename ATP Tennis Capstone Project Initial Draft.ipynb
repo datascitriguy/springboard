{
 "cells": [
  {
   "cell_type": "code",
   "execution_count": 1,
   "metadata": {},
   "outputs": [],
   "source": [
    "import pandas as pd, matplotlib.pyplot as plt, numpy as np, seaborn as sns, sklearn as sk\n",
    "import csv"
   ]
  },
  {
   "cell_type": "code",
   "execution_count": 2,
   "metadata": {
    "jupyter": {
     "source_hidden": true
    }
   },
   "outputs": [],
   "source": [
    "# from sklearn.metrics import f1_score, make_scorer, classification_report\n",
    "# scorer = make_scorer(f1_score, pos_label=None, average-'weighted')"
   ]
  },
  {
   "cell_type": "markdown",
   "metadata": {},
   "source": [
    "### Tournmanet Dataframe"
   ]
  },
  {
   "cell_type": "code",
   "execution_count": 3,
   "metadata": {},
   "outputs": [],
   "source": [
    "# Import tournaments data and create dataframe, adding column headings.\n",
    "tournaments = pd.read_csv('data/tournaments_1877-2017_UNINDEXED.csv', header=None)\n",
    "tournamentscolumns = ['tourney_year','tourney_order','tourney_name','tourney_id','tourney_slug','tourney_location',\n",
    "                      'tourney_dates','tourney_month','tourney_day','tourney_singles_draw','tourney_doubles_draw',\n",
    "                      'tourney_conditions','tourney_surface','tourney_fin_commit','tourney_url_suffix','singles_winner_name',\n",
    "                      'singles_winner_url','singles_winner_player_slug','singles_winner_player_id','doubles_winner_1_name',\n",
    "                      'doubles_winner_1_url','doubles_winner_1_player_slug','doubles_winner_1_player_id','doubles_winner_2_name',\n",
    "                      'doubles_winner_2_url','doubles_winner_2_player_slug','doubles_winner_2_player_id','tourney_year_id']\n",
    "tournaments.columns = tournamentscolumns"
   ]
  },
  {
   "cell_type": "code",
   "execution_count": 4,
   "metadata": {},
   "outputs": [],
   "source": [
    "# Drop unnecessary columns in tournaments. (Only keep 'tourney_dates' and 'tourney_year_id'). Will allow match dates to be included in model.\n",
    "tournaments.drop([\"tourney_year\",\"tourney_order\",\"tourney_name\",\"tourney_id\",\"tourney_slug\",\"tourney_location\",\n",
    "                  \"tourney_month\",\"tourney_day\",\"tourney_singles_draw\",\"tourney_doubles_draw\",\"tourney_conditions\",\"tourney_surface\",\n",
    "                  \"tourney_fin_commit\",\"tourney_url_suffix\",\"singles_winner_name\",\"singles_winner_url\",\"singles_winner_player_slug\",\n",
    "                  \"singles_winner_player_id\",\"doubles_winner_1_name\",\"doubles_winner_1_url\",\"doubles_winner_1_player_slug\",\n",
    "                  \"doubles_winner_1_player_id\",\"doubles_winner_2_name\",\"doubles_winner_2_url\",\"doubles_winner_2_player_slug\",\n",
    "                  \"doubles_winner_2_player_id\"], inplace=True, axis=1)"
   ]
  },
  {
   "cell_type": "code",
   "execution_count": 5,
   "metadata": {},
   "outputs": [],
   "source": [
    "# Convert tournament date strings to datetime objects.\n",
    "tournaments['tourney_dates'] = pd.to_datetime(pd.Series(tournaments['tourney_dates']))"
   ]
  },
  {
   "cell_type": "code",
   "execution_count": 6,
   "metadata": {},
   "outputs": [],
   "source": [
    "tournaments = tournaments[(tournaments['tourney_dates'].dt.year > 1989) ]"
   ]
  },
  {
   "cell_type": "code",
   "execution_count": 7,
   "metadata": {},
   "outputs": [],
   "source": [
    "# Create 'date' column for later merging.\n",
    "# tournaments['date'] = tournaments['tourney_dates']"
   ]
  },
  {
   "cell_type": "markdown",
   "metadata": {},
   "source": [
    "### Score Dataframe"
   ]
  },
  {
   "cell_type": "code",
   "execution_count": 8,
   "metadata": {},
   "outputs": [],
   "source": [
    "# Import scores data and create dataframe, adding column headings.\n",
    "scores = pd.read_csv('data/match_scores_1991-2016_unindexed.csv', header=None)\n",
    "scorescolumns = ['tourney_year_id','tourney_order','tourney_slug','tourney_url_suffix','tourney_round_name','round_order',\n",
    "                 'match_order','winner_name','winner_player_id','winner_slug','loser_name','loser_player_id','loser_slug',\n",
    "                 'winner_seed','loser_seed','match_score_tiebreaks','winner_sets_won','loser_sets_won','winner_games_won',\n",
    "                 'loser_games_won','winner_tiebreaks_won','loser_tiebreaks_won','match_id','match_stats_url_suffix']\n",
    "scores.columns = scorescolumns"
   ]
  },
  {
   "cell_type": "code",
   "execution_count": 9,
   "metadata": {},
   "outputs": [],
   "source": [
    "# Drop unnecessary columns in scores.\n",
    "scores.drop([\"tourney_order\",\"tourney_slug\",\"tourney_url_suffix\",\"tourney_round_name\",\"round_order\",\"match_order\",\"winner_name\",\n",
    "             \"winner_slug\",\"loser_name\",\"loser_slug\",\"winner_seed\",\"loser_seed\",\"match_stats_url_suffix\"], inplace=True, axis=1)"
   ]
  },
  {
   "cell_type": "code",
   "execution_count": 10,
   "metadata": {},
   "outputs": [],
   "source": [
    "# Drop empty rows in scores.\n",
    "nan_rows_scores = scores[ (scores['match_score_tiebreaks'].isnull() == True) ].index\n",
    "scores.drop(nan_rows_scores, inplace=True)"
   ]
  },
  {
   "cell_type": "markdown",
   "metadata": {},
   "source": [
    "### Winner and Loser Dataframes"
   ]
  },
  {
   "cell_type": "code",
   "execution_count": 11,
   "metadata": {},
   "outputs": [],
   "source": [
    "winner = pd.DataFrame([scores.tourney_year_id, scores.winner_player_id, scores.match_score_tiebreaks,\n",
    "                       scores.winner_sets_won, scores.winner_games_won, scores.winner_tiebreaks_won, scores.match_id]).transpose()"
   ]
  },
  {
   "cell_type": "code",
   "execution_count": 12,
   "metadata": {},
   "outputs": [],
   "source": [
    "loser = pd.DataFrame([scores.tourney_year_id, scores.loser_player_id, scores.match_score_tiebreaks,\n",
    "                       scores.loser_sets_won, scores.loser_games_won, scores.loser_tiebreaks_won, scores.match_id]).transpose()"
   ]
  },
  {
   "cell_type": "code",
   "execution_count": 13,
   "metadata": {},
   "outputs": [],
   "source": [
    "winner = winner.rename(columns={'winner_player_id': 'player_id'})\n",
    "loser = loser.rename(columns={'loser_player_id': 'player_id'})"
   ]
  },
  {
   "cell_type": "code",
   "execution_count": 14,
   "metadata": {},
   "outputs": [],
   "source": [
    "winner = pd.merge(left=winner,right=tournaments,how='left',left_on='tourney_year_id',right_on='tourney_year_id')"
   ]
  },
  {
   "cell_type": "code",
   "execution_count": 15,
   "metadata": {},
   "outputs": [],
   "source": [
    "loser = pd.merge(left=loser,right=tournaments,how='left',left_on='tourney_year_id',right_on='tourney_year_id')"
   ]
  },
  {
   "cell_type": "markdown",
   "metadata": {},
   "source": [
    "### Rankings Dataframe"
   ]
  },
  {
   "cell_type": "code",
   "execution_count": 16,
   "metadata": {},
   "outputs": [],
   "source": [
    "rankings = pd.read_csv('data/rankings_1973-2017_csv.csv', header=0, low_memory=False)"
   ]
  },
  {
   "cell_type": "code",
   "execution_count": 17,
   "metadata": {},
   "outputs": [],
   "source": [
    "# Drop rows before 1990.\n",
    "drop_rank_rows = rankings[ (rankings['week_year'] < 1990)].index\n",
    "rankings = rankings.drop(drop_rank_rows)"
   ]
  },
  {
   "cell_type": "code",
   "execution_count": 18,
   "metadata": {},
   "outputs": [],
   "source": [
    "# Drop unnecessary columns in rankings.\n",
    "rankings.drop([\"move_positions\",\"move_direction\",\"player_age\",\"tourneys_played\",\"player_url\",\"player_slug\"], inplace=True, axis=1)"
   ]
  },
  {
   "cell_type": "code",
   "execution_count": 19,
   "metadata": {},
   "outputs": [],
   "source": [
    "# Convert rankings date strings to datetime objects.\n",
    "rankings['week_title'] = pd.to_datetime(pd.Series(rankings['week_title']))"
   ]
  },
  {
   "cell_type": "code",
   "execution_count": 20,
   "metadata": {},
   "outputs": [],
   "source": [
    "# Create 'date' column for later merging.\n",
    "rankings['date'] = rankings['week_title']"
   ]
  },
  {
   "cell_type": "code",
   "execution_count": 21,
   "metadata": {},
   "outputs": [],
   "source": [
    "# sort rankings by year, week, day and rank.\n",
    "rankings = rankings.sort_values(['week_title'])"
   ]
  },
  {
   "cell_type": "markdown",
   "metadata": {},
   "source": [
    "### Create rounding dataframe for dates."
   ]
  },
  {
   "cell_type": "code",
   "execution_count": 22,
   "metadata": {},
   "outputs": [],
   "source": [
    "# Create dataframe of all dates from Jan 1, 1991 to Dec 31, 2017.\n",
    "df=pd.DataFrame({'date':pd.date_range('1990-12-15','2017-12-31')})"
   ]
  },
  {
   "cell_type": "code",
   "execution_count": 23,
   "metadata": {},
   "outputs": [
    {
     "name": "stderr",
     "output_type": "stream",
     "text": [
      "C:\\Users\\ironm\\AppData\\Local\\Continuum\\anaconda3\\lib\\site-packages\\pandas\\core\\arrays\\datetimes.py:837: PerformanceWarning: Non-vectorized DateOffset being applied to Series or DatetimeIndex\n",
      "  PerformanceWarning,\n"
     ]
    }
   ],
   "source": [
    "# Create reference column for the beginning day of the week for each day.\n",
    "df['BeginWeek']=np.where(df.date.dt.weekday==0, # offset on Non Mondays only\n",
    "                        df['date'],\n",
    "                        df['date']-pd.DateOffset(weekday=0,weeks=1),\n",
    "                        )"
   ]
  },
  {
   "cell_type": "markdown",
   "metadata": {},
   "source": [
    "### Add rounding dates to model dataframes for merging."
   ]
  },
  {
   "cell_type": "code",
   "execution_count": 24,
   "metadata": {},
   "outputs": [],
   "source": [
    "rankings = pd.merge(left=rankings,right=df,how='left',left_on='date',right_on='date')"
   ]
  },
  {
   "cell_type": "code",
   "execution_count": 25,
   "metadata": {},
   "outputs": [],
   "source": [
    "winner = pd.merge(left=winner,right=df,how='left',left_on='tourney_dates', right_on='date')"
   ]
  },
  {
   "cell_type": "code",
   "execution_count": 26,
   "metadata": {},
   "outputs": [],
   "source": [
    "loser = pd.merge(left=loser,right=df,how='left',left_on='tourney_dates', right_on='date')"
   ]
  },
  {
   "cell_type": "markdown",
   "metadata": {},
   "source": [
    "### Clean rankings/winner/loser of redundant date columns."
   ]
  },
  {
   "cell_type": "code",
   "execution_count": 27,
   "metadata": {},
   "outputs": [],
   "source": [
    "# Drop unnecessary columns in rankings/winner/loser.\n",
    "rankings.drop([\"week_title\",\"date\"], inplace=True, axis=1)\n",
    "winner.drop([\"tourney_dates\",\"date\"], inplace=True, axis=1)\n",
    "loser.drop([\"tourney_dates\",\"date\"], inplace=True, axis=1)"
   ]
  },
  {
   "cell_type": "markdown",
   "metadata": {},
   "source": [
    "### Merge rankings into winner and loser dataframes."
   ]
  },
  {
   "cell_type": "code",
   "execution_count": 28,
   "metadata": {},
   "outputs": [],
   "source": [
    "winner1 = pd.merge(winner,rankings,on=[\"player_id\",\"BeginWeek\"], how=\"left\")"
   ]
  },
  {
   "cell_type": "code",
   "execution_count": 29,
   "metadata": {},
   "outputs": [],
   "source": [
    "loser1 = pd.merge(loser,rankings,on=[\"player_id\",\"BeginWeek\"], how=\"left\")"
   ]
  },
  {
   "cell_type": "markdown",
   "metadata": {},
   "source": [
    "### Clean data in Winner1 and Loser 1 prior to master merge with matchstats."
   ]
  },
  {
   "cell_type": "code",
   "execution_count": 30,
   "metadata": {},
   "outputs": [],
   "source": [
    "# Drop empty rows in winner1/loser1.\n",
    "nan_rows_winner1 = winner1[ (winner1['week_year'].isnull() == True) ].index\n",
    "winner1.drop(nan_rows_winner1, inplace=True)\n",
    "\n",
    "nan_rows_loser1 = loser1[ (loser1['week_year'].isnull() == True) ].index\n",
    "loser1.drop(nan_rows_loser1, inplace=True)"
   ]
  },
  {
   "cell_type": "markdown",
   "metadata": {},
   "source": [
    "### Data Checking Code"
   ]
  },
  {
   "cell_type": "code",
   "execution_count": 31,
   "metadata": {},
   "outputs": [],
   "source": [
    "# winner1.query('player_id==\"v306\" & week_year==\"2014\" ')\n",
    "# winner1.loc[winner1['week_year'].isnull() == True]"
   ]
  },
  {
   "cell_type": "markdown",
   "metadata": {},
   "source": [
    "### Match Statistics Dataframe"
   ]
  },
  {
   "cell_type": "code",
   "execution_count": 32,
   "metadata": {
    "scrolled": true
   },
   "outputs": [],
   "source": [
    "matchstats = pd.read_csv('data/match_stats_1991-2016_unindexed.csv', header=None)\n",
    "matchstatscolumns = ['tourney_order','match_id','match_stats_url_suffix','match_time','match_duration','winner_aces',\n",
    "                     'winner_double_faults','winner_first_serves_in','winner_first_serves_total','winner_first_serve_points_won',\n",
    "                     'winner_first_serve_points_total','winner_second_serve_points_won','winner_second_serve_points_total',\n",
    "                     'winner_break_points_saved','winner_break_points_serve_total','winner_service_points_won',\n",
    "                     'winner_service_points_total','winner_first_serve_return_won','winner_first_serve_return_total',\n",
    "                     'winner_second_serve_return_won','winner_second_serve_return_total','winner_break_points_converted',\n",
    "                     'winner_break_points_return_total','winner_service_games_played','winner_return_games_played',\n",
    "                     'winner_return_points_won','winner_return_points_total','winner_total_points_won','winner_total_points_total',\n",
    "                     'loser_aces','loser_double_faults','loser_first_serves_in','loser_first_serves_total',\n",
    "                     'loser_first_serve_points_won','loser_first_serve_points_total','loser_second_serve_points_won',\n",
    "                     'loser_second_serve_points_total','loser_break_points_saved','loser_break_points_serve_total',\n",
    "                     'loser_service_points_won','loser_service_points_total','loser_first_serve_return_won',\n",
    "                     'loser_first_serve_return_total','loser_second_serve_return_won','loser_second_serve_return_total',\n",
    "                     'loser_break_points_converted','loser_break_points_return_total','loser_service_games_played',\n",
    "                     'loser_return_games_played','loser_return_points_won','loser_return_points_total','loser_total_points_won',\n",
    "                     'loser_total_points_total']\n",
    "matchstats.columns = matchstatscolumns\n",
    "# matchstats.head()"
   ]
  },
  {
   "cell_type": "code",
   "execution_count": 33,
   "metadata": {},
   "outputs": [],
   "source": [
    "# Drop empty rows in matchstats.\n",
    "nan_rows_match_time = matchstats[ (matchstats['match_time'].isnull() == True) ].index\n",
    "matchstats.drop(nan_rows_match_time, inplace=True)"
   ]
  },
  {
   "cell_type": "markdown",
   "metadata": {},
   "source": [
    "### Alternative Method (Not used for now) - Create separate dataframes for winners and losers match stats."
   ]
  },
  {
   "cell_type": "code",
   "execution_count": 34,
   "metadata": {},
   "outputs": [
    {
     "data": {
      "text/plain": [
       "'\\n# Create winner stats dataframe as a copy of matchstats.\\nwinnerstats = matchstats.copy()\\n\\n# Drop loser stats from winner stats dataframe.\\n# Drop unnecessary columns in rankings.\\nwinnerstats.drop([\"loser_aces\",\"loser_double_faults\",\"loser_first_serves_in\",\"loser_first_serves_total\",\\n                  \"loser_first_serve_points_won\",\"loser_first_serve_points_total\",\"loser_second_serve_points_won\",\\n                  \"loser_second_serve_points_total\",\"loser_break_points_saved\",\"loser_break_points_serve_total\",\\n                  \"loser_service_points_won\",\"loser_service_points_total\",\"loser_first_serve_return_won\",\\n                  \"loser_first_serve_return_total\",\"loser_second_serve_return_won\",\"loser_second_serve_return_total\",\\n                  \"loser_break_points_converted\",\"loser_break_points_return_total\",\"loser_service_games_played\",\\n                  \"loser_return_games_played\",\"loser_return_points_won\",\"loser_return_points_total\",\"loser_total_points_won\",\\n                  \"loser_total_points_total\"], inplace=True, axis=1)\\n                  \\n'"
      ]
     },
     "execution_count": 34,
     "metadata": {},
     "output_type": "execute_result"
    }
   ],
   "source": [
    "'''\n",
    "# Create winner stats dataframe as a copy of matchstats.\n",
    "winnerstats = matchstats.copy()\n",
    "\n",
    "# Drop loser stats from winner stats dataframe.\n",
    "# Drop unnecessary columns in rankings.\n",
    "winnerstats.drop([\"loser_aces\",\"loser_double_faults\",\"loser_first_serves_in\",\"loser_first_serves_total\",\n",
    "                  \"loser_first_serve_points_won\",\"loser_first_serve_points_total\",\"loser_second_serve_points_won\",\n",
    "                  \"loser_second_serve_points_total\",\"loser_break_points_saved\",\"loser_break_points_serve_total\",\n",
    "                  \"loser_service_points_won\",\"loser_service_points_total\",\"loser_first_serve_return_won\",\n",
    "                  \"loser_first_serve_return_total\",\"loser_second_serve_return_won\",\"loser_second_serve_return_total\",\n",
    "                  \"loser_break_points_converted\",\"loser_break_points_return_total\",\"loser_service_games_played\",\n",
    "                  \"loser_return_games_played\",\"loser_return_points_won\",\"loser_return_points_total\",\"loser_total_points_won\",\n",
    "                  \"loser_total_points_total\"], inplace=True, axis=1)\n",
    "                  \n",
    "'''"
   ]
  },
  {
   "cell_type": "code",
   "execution_count": 35,
   "metadata": {},
   "outputs": [
    {
     "data": {
      "text/plain": [
       "'\\n# Create loser stats dataframe as a copy of matchstats.\\nloserstats = matchstats.copy()\\n\\n# Drop nwiner stats from winner stats dataframe.\\n# Drop unnecessary columns in rankings.\\nloserstats.drop([\"winner_aces\",\"winner_double_faults\",\"winner_first_serves_in\",\"winner_first_serves_total\",\\n                  \"winner_first_serve_points_won\",\"winner_first_serve_points_total\",\"winner_second_serve_points_won\",\\n                  \"winner_second_serve_points_total\",\"winner_break_points_saved\",\"winner_break_points_serve_total\",\\n                  \"winner_service_points_won\",\"winner_service_points_total\",\"winner_first_serve_return_won\",\\n                  \"winner_first_serve_return_total\",\"winner_second_serve_return_won\",\"winner_second_serve_return_total\",\\n                  \"winner_break_points_converted\",\"winner_break_points_return_total\",\"winner_service_games_played\",\\n                  \"winner_return_games_played\",\"winner_return_points_won\",\"winner_return_points_total\",\"winner_total_points_won\",\\n                  \"winner_total_points_total\"], inplace=True, axis=1)\\n                  '"
      ]
     },
     "execution_count": 35,
     "metadata": {},
     "output_type": "execute_result"
    }
   ],
   "source": [
    "'''\n",
    "# Create loser stats dataframe as a copy of matchstats.\n",
    "loserstats = matchstats.copy()\n",
    "\n",
    "# Drop nwiner stats from winner stats dataframe.\n",
    "# Drop unnecessary columns in rankings.\n",
    "loserstats.drop([\"winner_aces\",\"winner_double_faults\",\"winner_first_serves_in\",\"winner_first_serves_total\",\n",
    "                  \"winner_first_serve_points_won\",\"winner_first_serve_points_total\",\"winner_second_serve_points_won\",\n",
    "                  \"winner_second_serve_points_total\",\"winner_break_points_saved\",\"winner_break_points_serve_total\",\n",
    "                  \"winner_service_points_won\",\"winner_service_points_total\",\"winner_first_serve_return_won\",\n",
    "                  \"winner_first_serve_return_total\",\"winner_second_serve_return_won\",\"winner_second_serve_return_total\",\n",
    "                  \"winner_break_points_converted\",\"winner_break_points_return_total\",\"winner_service_games_played\",\n",
    "                  \"winner_return_games_played\",\"winner_return_points_won\",\"winner_return_points_total\",\"winner_total_points_won\",\n",
    "                  \"winner_total_points_total\"], inplace=True, axis=1)\n",
    "                  '''"
   ]
  },
  {
   "cell_type": "markdown",
   "metadata": {},
   "source": [
    "### Rename player id to winner/loser id."
   ]
  },
  {
   "cell_type": "code",
   "execution_count": 36,
   "metadata": {},
   "outputs": [],
   "source": [
    "winner1 = winner1.rename(columns={'player_id': 'winner_player_id'})\n",
    "loser1 = loser1.rename(columns={'player_id': 'loser_player_id'})"
   ]
  },
  {
   "cell_type": "code",
   "execution_count": 37,
   "metadata": {},
   "outputs": [
    {
     "name": "stdout",
     "output_type": "stream",
     "text": [
      "<class 'pandas.core.frame.DataFrame'>\n",
      "Int64Index: 94858 entries, 0 to 95356\n",
      "Data columns (total 14 columns):\n",
      "tourney_year_id          94858 non-null object\n",
      "winner_player_id         94858 non-null object\n",
      "match_score_tiebreaks    94858 non-null object\n",
      "winner_sets_won          94858 non-null object\n",
      "winner_games_won         94858 non-null object\n",
      "winner_tiebreaks_won     94858 non-null object\n",
      "match_id                 94858 non-null object\n",
      "BeginWeek                94858 non-null datetime64[ns]\n",
      "week_year                94858 non-null float64\n",
      "week_month               94858 non-null float64\n",
      "week_day                 94858 non-null float64\n",
      "rank_text                94858 non-null object\n",
      "rank_number              94858 non-null float64\n",
      "ranking_points           94858 non-null float64\n",
      "dtypes: datetime64[ns](1), float64(5), object(8)\n",
      "memory usage: 10.9+ MB\n"
     ]
    }
   ],
   "source": [
    "winner1.info()"
   ]
  },
  {
   "cell_type": "code",
   "execution_count": 38,
   "metadata": {},
   "outputs": [
    {
     "name": "stdout",
     "output_type": "stream",
     "text": [
      "<class 'pandas.core.frame.DataFrame'>\n",
      "Int64Index: 93769 entries, 0 to 95356\n",
      "Data columns (total 14 columns):\n",
      "tourney_year_id          93769 non-null object\n",
      "loser_player_id          93769 non-null object\n",
      "match_score_tiebreaks    93769 non-null object\n",
      "loser_sets_won           93769 non-null object\n",
      "loser_games_won          93769 non-null object\n",
      "loser_tiebreaks_won      93769 non-null object\n",
      "match_id                 93769 non-null object\n",
      "BeginWeek                93769 non-null datetime64[ns]\n",
      "week_year                93769 non-null float64\n",
      "week_month               93769 non-null float64\n",
      "week_day                 93769 non-null float64\n",
      "rank_text                93769 non-null object\n",
      "rank_number              93769 non-null float64\n",
      "ranking_points           93769 non-null float64\n",
      "dtypes: datetime64[ns](1), float64(5), object(8)\n",
      "memory usage: 10.7+ MB\n"
     ]
    }
   ],
   "source": [
    "loser1.info()"
   ]
  },
  {
   "cell_type": "code",
   "execution_count": 39,
   "metadata": {},
   "outputs": [],
   "source": [
    "# Need to look into why these two are different...shouldn't be?"
   ]
  },
  {
   "cell_type": "markdown",
   "metadata": {},
   "source": [
    "### Bring in rankings data for winners1 and losers1 dataframes into the matchstats dataframe."
   ]
  },
  {
   "cell_type": "code",
   "execution_count": 40,
   "metadata": {},
   "outputs": [],
   "source": [
    "# Merge matchstats and winner1 dataframe first.\n",
    "matchstats1 = pd.merge(matchstats,winner1,on=[\"match_id\"], how=\"left\")"
   ]
  },
  {
   "cell_type": "code",
   "execution_count": 41,
   "metadata": {},
   "outputs": [
    {
     "data": {
      "text/html": [
       "<div>\n",
       "<style scoped>\n",
       "    .dataframe tbody tr th:only-of-type {\n",
       "        vertical-align: middle;\n",
       "    }\n",
       "\n",
       "    .dataframe tbody tr th {\n",
       "        vertical-align: top;\n",
       "    }\n",
       "\n",
       "    .dataframe thead th {\n",
       "        text-align: right;\n",
       "    }\n",
       "</style>\n",
       "<table border=\"1\" class=\"dataframe\">\n",
       "  <thead>\n",
       "    <tr style=\"text-align: right;\">\n",
       "      <th></th>\n",
       "      <th>tourney_order</th>\n",
       "      <th>match_id</th>\n",
       "      <th>match_stats_url_suffix</th>\n",
       "      <th>match_time</th>\n",
       "      <th>match_duration</th>\n",
       "      <th>winner_aces</th>\n",
       "      <th>winner_double_faults</th>\n",
       "      <th>winner_first_serves_in</th>\n",
       "      <th>winner_first_serves_total</th>\n",
       "      <th>winner_first_serve_points_won</th>\n",
       "      <th>...</th>\n",
       "      <th>winner_sets_won</th>\n",
       "      <th>winner_games_won</th>\n",
       "      <th>winner_tiebreaks_won</th>\n",
       "      <th>BeginWeek</th>\n",
       "      <th>week_year</th>\n",
       "      <th>week_month</th>\n",
       "      <th>week_day</th>\n",
       "      <th>rank_text</th>\n",
       "      <th>rank_number</th>\n",
       "      <th>ranking_points</th>\n",
       "    </tr>\n",
       "  </thead>\n",
       "  <tbody>\n",
       "    <tr>\n",
       "      <td>0</td>\n",
       "      <td>0</td>\n",
       "      <td>1991-7308-k181-l206</td>\n",
       "      <td>/en/scores/1991/7308/MS002/match-stats</td>\n",
       "      <td>01:20:00</td>\n",
       "      <td>80.0</td>\n",
       "      <td>3.0</td>\n",
       "      <td>0.0</td>\n",
       "      <td>0.0</td>\n",
       "      <td>65.0</td>\n",
       "      <td>29.0</td>\n",
       "      <td>...</td>\n",
       "      <td>2</td>\n",
       "      <td>13</td>\n",
       "      <td>0</td>\n",
       "      <td>1990-12-31</td>\n",
       "      <td>1990.0</td>\n",
       "      <td>12.0</td>\n",
       "      <td>31.0</td>\n",
       "      <td>51</td>\n",
       "      <td>51.0</td>\n",
       "      <td>0.0</td>\n",
       "    </tr>\n",
       "    <tr>\n",
       "      <td>1</td>\n",
       "      <td>0</td>\n",
       "      <td>1991-7308-k181-s351</td>\n",
       "      <td>/en/scores/1991/7308/MS001/match-stats</td>\n",
       "      <td>01:29:00</td>\n",
       "      <td>89.0</td>\n",
       "      <td>1.0</td>\n",
       "      <td>2.0</td>\n",
       "      <td>44.0</td>\n",
       "      <td>65.0</td>\n",
       "      <td>31.0</td>\n",
       "      <td>...</td>\n",
       "      <td>2</td>\n",
       "      <td>13</td>\n",
       "      <td>0</td>\n",
       "      <td>1990-12-31</td>\n",
       "      <td>1990.0</td>\n",
       "      <td>12.0</td>\n",
       "      <td>31.0</td>\n",
       "      <td>51</td>\n",
       "      <td>51.0</td>\n",
       "      <td>0.0</td>\n",
       "    </tr>\n",
       "  </tbody>\n",
       "</table>\n",
       "<p>2 rows × 66 columns</p>\n",
       "</div>"
      ],
      "text/plain": [
       "   tourney_order             match_id                  match_stats_url_suffix  \\\n",
       "0              0  1991-7308-k181-l206  /en/scores/1991/7308/MS002/match-stats   \n",
       "1              0  1991-7308-k181-s351  /en/scores/1991/7308/MS001/match-stats   \n",
       "\n",
       "  match_time  match_duration  winner_aces  winner_double_faults  \\\n",
       "0   01:20:00            80.0          3.0                   0.0   \n",
       "1   01:29:00            89.0          1.0                   2.0   \n",
       "\n",
       "   winner_first_serves_in  winner_first_serves_total  \\\n",
       "0                     0.0                       65.0   \n",
       "1                    44.0                       65.0   \n",
       "\n",
       "   winner_first_serve_points_won  ...  winner_sets_won  winner_games_won  \\\n",
       "0                           29.0  ...                2                13   \n",
       "1                           31.0  ...                2                13   \n",
       "\n",
       "   winner_tiebreaks_won  BeginWeek  week_year  week_month  week_day  \\\n",
       "0                     0 1990-12-31     1990.0        12.0      31.0   \n",
       "1                     0 1990-12-31     1990.0        12.0      31.0   \n",
       "\n",
       "   rank_text  rank_number  ranking_points  \n",
       "0         51         51.0             0.0  \n",
       "1         51         51.0             0.0  \n",
       "\n",
       "[2 rows x 66 columns]"
      ]
     },
     "execution_count": 41,
     "metadata": {},
     "output_type": "execute_result"
    }
   ],
   "source": [
    "matchstats1.head(2)"
   ]
  },
  {
   "cell_type": "code",
   "execution_count": 42,
   "metadata": {},
   "outputs": [
    {
     "name": "stdout",
     "output_type": "stream",
     "text": [
      "<class 'pandas.core.frame.DataFrame'>\n",
      "Int64Index: 91825 entries, 0 to 91824\n",
      "Data columns (total 66 columns):\n",
      "tourney_order                       91825 non-null int64\n",
      "match_id                            91825 non-null object\n",
      "match_stats_url_suffix              91825 non-null object\n",
      "match_time                          91825 non-null object\n",
      "match_duration                      91825 non-null float64\n",
      "winner_aces                         91825 non-null float64\n",
      "winner_double_faults                91825 non-null float64\n",
      "winner_first_serves_in              91825 non-null float64\n",
      "winner_first_serves_total           91825 non-null float64\n",
      "winner_first_serve_points_won       91825 non-null float64\n",
      "winner_first_serve_points_total     91825 non-null float64\n",
      "winner_second_serve_points_won      91825 non-null float64\n",
      "winner_second_serve_points_total    91825 non-null float64\n",
      "winner_break_points_saved           91825 non-null float64\n",
      "winner_break_points_serve_total     91825 non-null float64\n",
      "winner_service_points_won           91825 non-null float64\n",
      "winner_service_points_total         91825 non-null float64\n",
      "winner_first_serve_return_won       91825 non-null float64\n",
      "winner_first_serve_return_total     91825 non-null float64\n",
      "winner_second_serve_return_won      91825 non-null float64\n",
      "winner_second_serve_return_total    91825 non-null float64\n",
      "winner_break_points_converted       91825 non-null float64\n",
      "winner_break_points_return_total    91825 non-null float64\n",
      "winner_service_games_played         91825 non-null float64\n",
      "winner_return_games_played          91825 non-null float64\n",
      "winner_return_points_won            91825 non-null float64\n",
      "winner_return_points_total          91825 non-null float64\n",
      "winner_total_points_won             91825 non-null float64\n",
      "winner_total_points_total           91825 non-null float64\n",
      "loser_aces                          91825 non-null float64\n",
      "loser_double_faults                 91825 non-null float64\n",
      "loser_first_serves_in               91825 non-null float64\n",
      "loser_first_serves_total            91825 non-null float64\n",
      "loser_first_serve_points_won        91825 non-null float64\n",
      "loser_first_serve_points_total      91825 non-null float64\n",
      "loser_second_serve_points_won       91825 non-null float64\n",
      "loser_second_serve_points_total     91825 non-null float64\n",
      "loser_break_points_saved            91825 non-null float64\n",
      "loser_break_points_serve_total      91825 non-null float64\n",
      "loser_service_points_won            91825 non-null float64\n",
      "loser_service_points_total          91825 non-null float64\n",
      "loser_first_serve_return_won        91825 non-null float64\n",
      "loser_first_serve_return_total      91825 non-null float64\n",
      "loser_second_serve_return_won       91825 non-null float64\n",
      "loser_second_serve_return_total     91825 non-null float64\n",
      "loser_break_points_converted        91825 non-null float64\n",
      "loser_break_points_return_total     91825 non-null float64\n",
      "loser_service_games_played          91825 non-null float64\n",
      "loser_return_games_played           91825 non-null float64\n",
      "loser_return_points_won             91825 non-null float64\n",
      "loser_return_points_total           91825 non-null float64\n",
      "loser_total_points_won              91825 non-null float64\n",
      "loser_total_points_total            91825 non-null float64\n",
      "tourney_year_id                     91339 non-null object\n",
      "winner_player_id                    91339 non-null object\n",
      "match_score_tiebreaks               91339 non-null object\n",
      "winner_sets_won                     91339 non-null object\n",
      "winner_games_won                    91339 non-null object\n",
      "winner_tiebreaks_won                91339 non-null object\n",
      "BeginWeek                           91339 non-null datetime64[ns]\n",
      "week_year                           91339 non-null float64\n",
      "week_month                          91339 non-null float64\n",
      "week_day                            91339 non-null float64\n",
      "rank_text                           91339 non-null object\n",
      "rank_number                         91339 non-null float64\n",
      "ranking_points                      91339 non-null float64\n",
      "dtypes: datetime64[ns](1), float64(54), int64(1), object(10)\n",
      "memory usage: 46.9+ MB\n"
     ]
    }
   ],
   "source": [
    "matchstats1.info()"
   ]
  },
  {
   "cell_type": "markdown",
   "metadata": {},
   "source": [
    "### Data Checking Code"
   ]
  },
  {
   "cell_type": "code",
   "execution_count": 43,
   "metadata": {},
   "outputs": [],
   "source": [
    "# matchstats1.query('winner_player_id==\"v306\" & match_duration < 91 ')\n",
    "# matchstats1.loc[matchstats1['winner_player_id'].isnull() == True]"
   ]
  },
  {
   "cell_type": "code",
   "execution_count": 44,
   "metadata": {},
   "outputs": [],
   "source": [
    "matchstats1 = pd.merge(matchstats1,loser1,on=[\"match_id\"], how=\"left\")"
   ]
  },
  {
   "cell_type": "markdown",
   "metadata": {},
   "source": [
    "## Model Complete - Now For Some Expoloratory Analysis"
   ]
  },
  {
   "cell_type": "markdown",
   "metadata": {},
   "source": [
    "### Compare Winners and Loser Stats"
   ]
  },
  {
   "cell_type": "code",
   "execution_count": 45,
   "metadata": {},
   "outputs": [
    {
     "data": {
      "text/html": [
       "<div>\n",
       "<style scoped>\n",
       "    .dataframe tbody tr th:only-of-type {\n",
       "        vertical-align: middle;\n",
       "    }\n",
       "\n",
       "    .dataframe tbody tr th {\n",
       "        vertical-align: top;\n",
       "    }\n",
       "\n",
       "    .dataframe thead th {\n",
       "        text-align: right;\n",
       "    }\n",
       "</style>\n",
       "<table border=\"1\" class=\"dataframe\">\n",
       "  <thead>\n",
       "    <tr style=\"text-align: right;\">\n",
       "      <th></th>\n",
       "      <th>tourney_order</th>\n",
       "      <th>match_duration</th>\n",
       "      <th>winner_aces</th>\n",
       "      <th>winner_double_faults</th>\n",
       "      <th>winner_first_serves_in</th>\n",
       "      <th>winner_first_serves_total</th>\n",
       "      <th>winner_first_serve_points_won</th>\n",
       "      <th>winner_first_serve_points_total</th>\n",
       "      <th>winner_second_serve_points_won</th>\n",
       "      <th>winner_second_serve_points_total</th>\n",
       "      <th>...</th>\n",
       "      <th>week_year_x</th>\n",
       "      <th>week_month_x</th>\n",
       "      <th>week_day_x</th>\n",
       "      <th>rank_number_x</th>\n",
       "      <th>ranking_points_x</th>\n",
       "      <th>week_year_y</th>\n",
       "      <th>week_month_y</th>\n",
       "      <th>week_day_y</th>\n",
       "      <th>rank_number_y</th>\n",
       "      <th>ranking_points_y</th>\n",
       "    </tr>\n",
       "  </thead>\n",
       "  <tbody>\n",
       "    <tr>\n",
       "      <td>count</td>\n",
       "      <td>91863.000000</td>\n",
       "      <td>91863.000000</td>\n",
       "      <td>91863.000000</td>\n",
       "      <td>91863.000000</td>\n",
       "      <td>91863.000000</td>\n",
       "      <td>91863.000000</td>\n",
       "      <td>91863.000000</td>\n",
       "      <td>91863.000000</td>\n",
       "      <td>91863.000000</td>\n",
       "      <td>91863.000000</td>\n",
       "      <td>...</td>\n",
       "      <td>91377.000000</td>\n",
       "      <td>91377.000000</td>\n",
       "      <td>91377.000000</td>\n",
       "      <td>91377.000000</td>\n",
       "      <td>91377.000000</td>\n",
       "      <td>90336.000000</td>\n",
       "      <td>90336.000000</td>\n",
       "      <td>90336.000000</td>\n",
       "      <td>90336.000000</td>\n",
       "      <td>90336.000000</td>\n",
       "    </tr>\n",
       "    <tr>\n",
       "      <td>mean</td>\n",
       "      <td>34.434375</td>\n",
       "      <td>98.476079</td>\n",
       "      <td>6.108977</td>\n",
       "      <td>2.679817</td>\n",
       "      <td>44.363106</td>\n",
       "      <td>75.502052</td>\n",
       "      <td>34.489882</td>\n",
       "      <td>45.862817</td>\n",
       "      <td>16.273472</td>\n",
       "      <td>29.641412</td>\n",
       "      <td>...</td>\n",
       "      <td>2004.392232</td>\n",
       "      <td>5.671504</td>\n",
       "      <td>16.097793</td>\n",
       "      <td>93.795890</td>\n",
       "      <td>1001.346652</td>\n",
       "      <td>2004.336865</td>\n",
       "      <td>5.668914</td>\n",
       "      <td>16.101920</td>\n",
       "      <td>142.882959</td>\n",
       "      <td>619.063408</td>\n",
       "    </tr>\n",
       "    <tr>\n",
       "      <td>std</td>\n",
       "      <td>20.144110</td>\n",
       "      <td>39.112051</td>\n",
       "      <td>5.080095</td>\n",
       "      <td>2.339907</td>\n",
       "      <td>20.707491</td>\n",
       "      <td>29.454151</td>\n",
       "      <td>13.673104</td>\n",
       "      <td>19.028693</td>\n",
       "      <td>7.000368</td>\n",
       "      <td>13.374451</td>\n",
       "      <td>...</td>\n",
       "      <td>7.689034</td>\n",
       "      <td>2.973200</td>\n",
       "      <td>8.552675</td>\n",
       "      <td>132.990916</td>\n",
       "      <td>1633.077750</td>\n",
       "      <td>7.693000</td>\n",
       "      <td>2.972345</td>\n",
       "      <td>8.553893</td>\n",
       "      <td>209.740283</td>\n",
       "      <td>901.402417</td>\n",
       "    </tr>\n",
       "    <tr>\n",
       "      <td>min</td>\n",
       "      <td>0.000000</td>\n",
       "      <td>1.000000</td>\n",
       "      <td>0.000000</td>\n",
       "      <td>0.000000</td>\n",
       "      <td>0.000000</td>\n",
       "      <td>0.000000</td>\n",
       "      <td>0.000000</td>\n",
       "      <td>0.000000</td>\n",
       "      <td>0.000000</td>\n",
       "      <td>0.000000</td>\n",
       "      <td>...</td>\n",
       "      <td>1990.000000</td>\n",
       "      <td>1.000000</td>\n",
       "      <td>1.000000</td>\n",
       "      <td>1.000000</td>\n",
       "      <td>0.000000</td>\n",
       "      <td>1990.000000</td>\n",
       "      <td>1.000000</td>\n",
       "      <td>1.000000</td>\n",
       "      <td>1.000000</td>\n",
       "      <td>0.000000</td>\n",
       "    </tr>\n",
       "    <tr>\n",
       "      <td>25%</td>\n",
       "      <td>18.000000</td>\n",
       "      <td>72.000000</td>\n",
       "      <td>2.000000</td>\n",
       "      <td>1.000000</td>\n",
       "      <td>32.000000</td>\n",
       "      <td>55.000000</td>\n",
       "      <td>25.000000</td>\n",
       "      <td>33.000000</td>\n",
       "      <td>12.000000</td>\n",
       "      <td>20.000000</td>\n",
       "      <td>...</td>\n",
       "      <td>1997.000000</td>\n",
       "      <td>3.000000</td>\n",
       "      <td>9.000000</td>\n",
       "      <td>22.000000</td>\n",
       "      <td>138.000000</td>\n",
       "      <td>1997.000000</td>\n",
       "      <td>3.000000</td>\n",
       "      <td>9.000000</td>\n",
       "      <td>43.000000</td>\n",
       "      <td>54.000000</td>\n",
       "    </tr>\n",
       "    <tr>\n",
       "      <td>50%</td>\n",
       "      <td>34.000000</td>\n",
       "      <td>92.000000</td>\n",
       "      <td>5.000000</td>\n",
       "      <td>2.000000</td>\n",
       "      <td>42.000000</td>\n",
       "      <td>70.000000</td>\n",
       "      <td>32.000000</td>\n",
       "      <td>43.000000</td>\n",
       "      <td>15.000000</td>\n",
       "      <td>28.000000</td>\n",
       "      <td>...</td>\n",
       "      <td>2005.000000</td>\n",
       "      <td>6.000000</td>\n",
       "      <td>16.000000</td>\n",
       "      <td>58.000000</td>\n",
       "      <td>556.000000</td>\n",
       "      <td>2005.000000</td>\n",
       "      <td>6.000000</td>\n",
       "      <td>16.000000</td>\n",
       "      <td>82.000000</td>\n",
       "      <td>431.000000</td>\n",
       "    </tr>\n",
       "    <tr>\n",
       "      <td>75%</td>\n",
       "      <td>50.000000</td>\n",
       "      <td>120.000000</td>\n",
       "      <td>8.000000</td>\n",
       "      <td>4.000000</td>\n",
       "      <td>56.000000</td>\n",
       "      <td>92.000000</td>\n",
       "      <td>41.000000</td>\n",
       "      <td>56.000000</td>\n",
       "      <td>20.000000</td>\n",
       "      <td>37.000000</td>\n",
       "      <td>...</td>\n",
       "      <td>2011.000000</td>\n",
       "      <td>8.000000</td>\n",
       "      <td>24.000000</td>\n",
       "      <td>114.000000</td>\n",
       "      <td>1124.000000</td>\n",
       "      <td>2011.000000</td>\n",
       "      <td>8.000000</td>\n",
       "      <td>24.000000</td>\n",
       "      <td>149.000000</td>\n",
       "      <td>801.000000</td>\n",
       "    </tr>\n",
       "    <tr>\n",
       "      <td>max</td>\n",
       "      <td>88.000000</td>\n",
       "      <td>1412.000000</td>\n",
       "      <td>113.000000</td>\n",
       "      <td>23.000000</td>\n",
       "      <td>361.000000</td>\n",
       "      <td>491.000000</td>\n",
       "      <td>292.000000</td>\n",
       "      <td>361.000000</td>\n",
       "      <td>82.000000</td>\n",
       "      <td>130.000000</td>\n",
       "      <td>...</td>\n",
       "      <td>2016.000000</td>\n",
       "      <td>12.000000</td>\n",
       "      <td>31.000000</td>\n",
       "      <td>2152.000000</td>\n",
       "      <td>16950.000000</td>\n",
       "      <td>2016.000000</td>\n",
       "      <td>12.000000</td>\n",
       "      <td>31.000000</td>\n",
       "      <td>2247.000000</td>\n",
       "      <td>16950.000000</td>\n",
       "    </tr>\n",
       "  </tbody>\n",
       "</table>\n",
       "<p>8 rows × 60 columns</p>\n",
       "</div>"
      ],
      "text/plain": [
       "       tourney_order  match_duration   winner_aces  winner_double_faults  \\\n",
       "count   91863.000000    91863.000000  91863.000000          91863.000000   \n",
       "mean       34.434375       98.476079      6.108977              2.679817   \n",
       "std        20.144110       39.112051      5.080095              2.339907   \n",
       "min         0.000000        1.000000      0.000000              0.000000   \n",
       "25%        18.000000       72.000000      2.000000              1.000000   \n",
       "50%        34.000000       92.000000      5.000000              2.000000   \n",
       "75%        50.000000      120.000000      8.000000              4.000000   \n",
       "max        88.000000     1412.000000    113.000000             23.000000   \n",
       "\n",
       "       winner_first_serves_in  winner_first_serves_total  \\\n",
       "count            91863.000000               91863.000000   \n",
       "mean                44.363106                  75.502052   \n",
       "std                 20.707491                  29.454151   \n",
       "min                  0.000000                   0.000000   \n",
       "25%                 32.000000                  55.000000   \n",
       "50%                 42.000000                  70.000000   \n",
       "75%                 56.000000                  92.000000   \n",
       "max                361.000000                 491.000000   \n",
       "\n",
       "       winner_first_serve_points_won  winner_first_serve_points_total  \\\n",
       "count                   91863.000000                     91863.000000   \n",
       "mean                       34.489882                        45.862817   \n",
       "std                        13.673104                        19.028693   \n",
       "min                         0.000000                         0.000000   \n",
       "25%                        25.000000                        33.000000   \n",
       "50%                        32.000000                        43.000000   \n",
       "75%                        41.000000                        56.000000   \n",
       "max                       292.000000                       361.000000   \n",
       "\n",
       "       winner_second_serve_points_won  winner_second_serve_points_total  ...  \\\n",
       "count                    91863.000000                      91863.000000  ...   \n",
       "mean                        16.273472                         29.641412  ...   \n",
       "std                          7.000368                         13.374451  ...   \n",
       "min                          0.000000                          0.000000  ...   \n",
       "25%                         12.000000                         20.000000  ...   \n",
       "50%                         15.000000                         28.000000  ...   \n",
       "75%                         20.000000                         37.000000  ...   \n",
       "max                         82.000000                        130.000000  ...   \n",
       "\n",
       "        week_year_x  week_month_x    week_day_x  rank_number_x  \\\n",
       "count  91377.000000  91377.000000  91377.000000   91377.000000   \n",
       "mean    2004.392232      5.671504     16.097793      93.795890   \n",
       "std        7.689034      2.973200      8.552675     132.990916   \n",
       "min     1990.000000      1.000000      1.000000       1.000000   \n",
       "25%     1997.000000      3.000000      9.000000      22.000000   \n",
       "50%     2005.000000      6.000000     16.000000      58.000000   \n",
       "75%     2011.000000      8.000000     24.000000     114.000000   \n",
       "max     2016.000000     12.000000     31.000000    2152.000000   \n",
       "\n",
       "       ranking_points_x   week_year_y  week_month_y    week_day_y  \\\n",
       "count      91377.000000  90336.000000  90336.000000  90336.000000   \n",
       "mean        1001.346652   2004.336865      5.668914     16.101920   \n",
       "std         1633.077750      7.693000      2.972345      8.553893   \n",
       "min            0.000000   1990.000000      1.000000      1.000000   \n",
       "25%          138.000000   1997.000000      3.000000      9.000000   \n",
       "50%          556.000000   2005.000000      6.000000     16.000000   \n",
       "75%         1124.000000   2011.000000      8.000000     24.000000   \n",
       "max        16950.000000   2016.000000     12.000000     31.000000   \n",
       "\n",
       "       rank_number_y  ranking_points_y  \n",
       "count   90336.000000      90336.000000  \n",
       "mean      142.882959        619.063408  \n",
       "std       209.740283        901.402417  \n",
       "min         1.000000          0.000000  \n",
       "25%        43.000000         54.000000  \n",
       "50%        82.000000        431.000000  \n",
       "75%       149.000000        801.000000  \n",
       "max      2247.000000      16950.000000  \n",
       "\n",
       "[8 rows x 60 columns]"
      ]
     },
     "execution_count": 45,
     "metadata": {},
     "output_type": "execute_result"
    }
   ],
   "source": [
    "matchstats1.describe()"
   ]
  },
  {
   "cell_type": "markdown",
   "metadata": {},
   "source": [
    "### <span style=\"color:red\">^^^ Why two different variables for year, week and day? ^^^</span>\n"
   ]
  },
  {
   "cell_type": "code",
   "execution_count": 46,
   "metadata": {},
   "outputs": [
    {
     "data": {
      "text/html": [
       "<div>\n",
       "<style scoped>\n",
       "    .dataframe tbody tr th:only-of-type {\n",
       "        vertical-align: middle;\n",
       "    }\n",
       "\n",
       "    .dataframe tbody tr th {\n",
       "        vertical-align: top;\n",
       "    }\n",
       "\n",
       "    .dataframe thead th {\n",
       "        text-align: right;\n",
       "    }\n",
       "</style>\n",
       "<table border=\"1\" class=\"dataframe\">\n",
       "  <thead>\n",
       "    <tr style=\"text-align: right;\">\n",
       "      <th></th>\n",
       "      <th>winner_aces</th>\n",
       "      <th>loser_aces</th>\n",
       "    </tr>\n",
       "  </thead>\n",
       "  <tbody>\n",
       "    <tr>\n",
       "      <td>count</td>\n",
       "      <td>91863.000000</td>\n",
       "      <td>91863.000000</td>\n",
       "    </tr>\n",
       "    <tr>\n",
       "      <td>mean</td>\n",
       "      <td>6.108977</td>\n",
       "      <td>4.506482</td>\n",
       "    </tr>\n",
       "    <tr>\n",
       "      <td>std</td>\n",
       "      <td>5.080095</td>\n",
       "      <td>4.411750</td>\n",
       "    </tr>\n",
       "    <tr>\n",
       "      <td>min</td>\n",
       "      <td>0.000000</td>\n",
       "      <td>0.000000</td>\n",
       "    </tr>\n",
       "    <tr>\n",
       "      <td>25%</td>\n",
       "      <td>2.000000</td>\n",
       "      <td>1.000000</td>\n",
       "    </tr>\n",
       "    <tr>\n",
       "      <td>50%</td>\n",
       "      <td>5.000000</td>\n",
       "      <td>3.000000</td>\n",
       "    </tr>\n",
       "    <tr>\n",
       "      <td>75%</td>\n",
       "      <td>8.000000</td>\n",
       "      <td>6.000000</td>\n",
       "    </tr>\n",
       "    <tr>\n",
       "      <td>max</td>\n",
       "      <td>113.000000</td>\n",
       "      <td>103.000000</td>\n",
       "    </tr>\n",
       "  </tbody>\n",
       "</table>\n",
       "</div>"
      ],
      "text/plain": [
       "        winner_aces    loser_aces\n",
       "count  91863.000000  91863.000000\n",
       "mean       6.108977      4.506482\n",
       "std        5.080095      4.411750\n",
       "min        0.000000      0.000000\n",
       "25%        2.000000      1.000000\n",
       "50%        5.000000      3.000000\n",
       "75%        8.000000      6.000000\n",
       "max      113.000000    103.000000"
      ]
     },
     "execution_count": 46,
     "metadata": {},
     "output_type": "execute_result"
    }
   ],
   "source": [
    "matchstats1[['winner_aces','loser_aces']].describe()"
   ]
  },
  {
   "cell_type": "code",
   "execution_count": 47,
   "metadata": {},
   "outputs": [
    {
     "data": {
      "text/html": [
       "<div>\n",
       "<style scoped>\n",
       "    .dataframe tbody tr th:only-of-type {\n",
       "        vertical-align: middle;\n",
       "    }\n",
       "\n",
       "    .dataframe tbody tr th {\n",
       "        vertical-align: top;\n",
       "    }\n",
       "\n",
       "    .dataframe thead th {\n",
       "        text-align: right;\n",
       "    }\n",
       "</style>\n",
       "<table border=\"1\" class=\"dataframe\">\n",
       "  <thead>\n",
       "    <tr style=\"text-align: right;\">\n",
       "      <th></th>\n",
       "      <th>winner_double_faults</th>\n",
       "      <th>loser_double_faults</th>\n",
       "    </tr>\n",
       "  </thead>\n",
       "  <tbody>\n",
       "    <tr>\n",
       "      <td>count</td>\n",
       "      <td>91863.000000</td>\n",
       "      <td>91863.000000</td>\n",
       "    </tr>\n",
       "    <tr>\n",
       "      <td>mean</td>\n",
       "      <td>2.679817</td>\n",
       "      <td>3.468426</td>\n",
       "    </tr>\n",
       "    <tr>\n",
       "      <td>std</td>\n",
       "      <td>2.339907</td>\n",
       "      <td>2.606601</td>\n",
       "    </tr>\n",
       "    <tr>\n",
       "      <td>min</td>\n",
       "      <td>0.000000</td>\n",
       "      <td>0.000000</td>\n",
       "    </tr>\n",
       "    <tr>\n",
       "      <td>25%</td>\n",
       "      <td>1.000000</td>\n",
       "      <td>2.000000</td>\n",
       "    </tr>\n",
       "    <tr>\n",
       "      <td>50%</td>\n",
       "      <td>2.000000</td>\n",
       "      <td>3.000000</td>\n",
       "    </tr>\n",
       "    <tr>\n",
       "      <td>75%</td>\n",
       "      <td>4.000000</td>\n",
       "      <td>5.000000</td>\n",
       "    </tr>\n",
       "    <tr>\n",
       "      <td>max</td>\n",
       "      <td>23.000000</td>\n",
       "      <td>26.000000</td>\n",
       "    </tr>\n",
       "  </tbody>\n",
       "</table>\n",
       "</div>"
      ],
      "text/plain": [
       "       winner_double_faults  loser_double_faults\n",
       "count          91863.000000         91863.000000\n",
       "mean               2.679817             3.468426\n",
       "std                2.339907             2.606601\n",
       "min                0.000000             0.000000\n",
       "25%                1.000000             2.000000\n",
       "50%                2.000000             3.000000\n",
       "75%                4.000000             5.000000\n",
       "max               23.000000            26.000000"
      ]
     },
     "execution_count": 47,
     "metadata": {},
     "output_type": "execute_result"
    }
   ],
   "source": [
    "matchstats1[['winner_double_faults','loser_double_faults']].describe()"
   ]
  },
  {
   "cell_type": "code",
   "execution_count": 48,
   "metadata": {},
   "outputs": [
    {
     "data": {
      "text/html": [
       "<div>\n",
       "<style scoped>\n",
       "    .dataframe tbody tr th:only-of-type {\n",
       "        vertical-align: middle;\n",
       "    }\n",
       "\n",
       "    .dataframe tbody tr th {\n",
       "        vertical-align: top;\n",
       "    }\n",
       "\n",
       "    .dataframe thead th {\n",
       "        text-align: right;\n",
       "    }\n",
       "</style>\n",
       "<table border=\"1\" class=\"dataframe\">\n",
       "  <thead>\n",
       "    <tr style=\"text-align: right;\">\n",
       "      <th></th>\n",
       "      <th>winner_first_serves_in</th>\n",
       "      <th>loser_first_serves_in</th>\n",
       "    </tr>\n",
       "  </thead>\n",
       "  <tbody>\n",
       "    <tr>\n",
       "      <td>count</td>\n",
       "      <td>91863.000000</td>\n",
       "      <td>91863.000000</td>\n",
       "    </tr>\n",
       "    <tr>\n",
       "      <td>mean</td>\n",
       "      <td>44.363106</td>\n",
       "      <td>46.276346</td>\n",
       "    </tr>\n",
       "    <tr>\n",
       "      <td>std</td>\n",
       "      <td>20.707491</td>\n",
       "      <td>19.170334</td>\n",
       "    </tr>\n",
       "    <tr>\n",
       "      <td>min</td>\n",
       "      <td>0.000000</td>\n",
       "      <td>0.000000</td>\n",
       "    </tr>\n",
       "    <tr>\n",
       "      <td>25%</td>\n",
       "      <td>32.000000</td>\n",
       "      <td>33.000000</td>\n",
       "    </tr>\n",
       "    <tr>\n",
       "      <td>50%</td>\n",
       "      <td>42.000000</td>\n",
       "      <td>43.000000</td>\n",
       "    </tr>\n",
       "    <tr>\n",
       "      <td>75%</td>\n",
       "      <td>56.000000</td>\n",
       "      <td>56.000000</td>\n",
       "    </tr>\n",
       "    <tr>\n",
       "      <td>max</td>\n",
       "      <td>361.000000</td>\n",
       "      <td>328.000000</td>\n",
       "    </tr>\n",
       "  </tbody>\n",
       "</table>\n",
       "</div>"
      ],
      "text/plain": [
       "       winner_first_serves_in  loser_first_serves_in\n",
       "count            91863.000000           91863.000000\n",
       "mean                44.363106              46.276346\n",
       "std                 20.707491              19.170334\n",
       "min                  0.000000               0.000000\n",
       "25%                 32.000000              33.000000\n",
       "50%                 42.000000              43.000000\n",
       "75%                 56.000000              56.000000\n",
       "max                361.000000             328.000000"
      ]
     },
     "execution_count": 48,
     "metadata": {},
     "output_type": "execute_result"
    }
   ],
   "source": [
    "matchstats1[['winner_first_serves_in','loser_first_serves_in']].describe()"
   ]
  },
  {
   "cell_type": "code",
   "execution_count": 49,
   "metadata": {},
   "outputs": [
    {
     "data": {
      "text/html": [
       "<div>\n",
       "<style scoped>\n",
       "    .dataframe tbody tr th:only-of-type {\n",
       "        vertical-align: middle;\n",
       "    }\n",
       "\n",
       "    .dataframe tbody tr th {\n",
       "        vertical-align: top;\n",
       "    }\n",
       "\n",
       "    .dataframe thead th {\n",
       "        text-align: right;\n",
       "    }\n",
       "</style>\n",
       "<table border=\"1\" class=\"dataframe\">\n",
       "  <thead>\n",
       "    <tr style=\"text-align: right;\">\n",
       "      <th></th>\n",
       "      <th>winner_first_serves_total</th>\n",
       "      <th>loser_first_serves_total</th>\n",
       "    </tr>\n",
       "  </thead>\n",
       "  <tbody>\n",
       "    <tr>\n",
       "      <td>count</td>\n",
       "      <td>91863.000000</td>\n",
       "      <td>91863.000000</td>\n",
       "    </tr>\n",
       "    <tr>\n",
       "      <td>mean</td>\n",
       "      <td>75.502052</td>\n",
       "      <td>78.331396</td>\n",
       "    </tr>\n",
       "    <tr>\n",
       "      <td>std</td>\n",
       "      <td>29.454151</td>\n",
       "      <td>29.344277</td>\n",
       "    </tr>\n",
       "    <tr>\n",
       "      <td>min</td>\n",
       "      <td>0.000000</td>\n",
       "      <td>0.000000</td>\n",
       "    </tr>\n",
       "    <tr>\n",
       "      <td>25%</td>\n",
       "      <td>55.000000</td>\n",
       "      <td>58.000000</td>\n",
       "    </tr>\n",
       "    <tr>\n",
       "      <td>50%</td>\n",
       "      <td>70.000000</td>\n",
       "      <td>73.000000</td>\n",
       "    </tr>\n",
       "    <tr>\n",
       "      <td>75%</td>\n",
       "      <td>92.000000</td>\n",
       "      <td>94.000000</td>\n",
       "    </tr>\n",
       "    <tr>\n",
       "      <td>max</td>\n",
       "      <td>491.000000</td>\n",
       "      <td>489.000000</td>\n",
       "    </tr>\n",
       "  </tbody>\n",
       "</table>\n",
       "</div>"
      ],
      "text/plain": [
       "       winner_first_serves_total  loser_first_serves_total\n",
       "count               91863.000000              91863.000000\n",
       "mean                   75.502052                 78.331396\n",
       "std                    29.454151                 29.344277\n",
       "min                     0.000000                  0.000000\n",
       "25%                    55.000000                 58.000000\n",
       "50%                    70.000000                 73.000000\n",
       "75%                    92.000000                 94.000000\n",
       "max                   491.000000                489.000000"
      ]
     },
     "execution_count": 49,
     "metadata": {},
     "output_type": "execute_result"
    }
   ],
   "source": [
    "matchstats1[['winner_first_serves_total','loser_first_serves_total']].describe()"
   ]
  },
  {
   "cell_type": "code",
   "execution_count": 50,
   "metadata": {},
   "outputs": [
    {
     "data": {
      "text/html": [
       "<div>\n",
       "<style scoped>\n",
       "    .dataframe tbody tr th:only-of-type {\n",
       "        vertical-align: middle;\n",
       "    }\n",
       "\n",
       "    .dataframe tbody tr th {\n",
       "        vertical-align: top;\n",
       "    }\n",
       "\n",
       "    .dataframe thead th {\n",
       "        text-align: right;\n",
       "    }\n",
       "</style>\n",
       "<table border=\"1\" class=\"dataframe\">\n",
       "  <thead>\n",
       "    <tr style=\"text-align: right;\">\n",
       "      <th></th>\n",
       "      <th>winner_first_serve_points_won</th>\n",
       "      <th>loser_first_serve_points_won</th>\n",
       "    </tr>\n",
       "  </thead>\n",
       "  <tbody>\n",
       "    <tr>\n",
       "      <td>count</td>\n",
       "      <td>91863.000000</td>\n",
       "      <td>91863.000000</td>\n",
       "    </tr>\n",
       "    <tr>\n",
       "      <td>mean</td>\n",
       "      <td>34.489882</td>\n",
       "      <td>30.546346</td>\n",
       "    </tr>\n",
       "    <tr>\n",
       "      <td>std</td>\n",
       "      <td>13.673104</td>\n",
       "      <td>14.231268</td>\n",
       "    </tr>\n",
       "    <tr>\n",
       "      <td>min</td>\n",
       "      <td>0.000000</td>\n",
       "      <td>0.000000</td>\n",
       "    </tr>\n",
       "    <tr>\n",
       "      <td>25%</td>\n",
       "      <td>25.000000</td>\n",
       "      <td>21.000000</td>\n",
       "    </tr>\n",
       "    <tr>\n",
       "      <td>50%</td>\n",
       "      <td>32.000000</td>\n",
       "      <td>28.000000</td>\n",
       "    </tr>\n",
       "    <tr>\n",
       "      <td>75%</td>\n",
       "      <td>41.000000</td>\n",
       "      <td>38.000000</td>\n",
       "    </tr>\n",
       "    <tr>\n",
       "      <td>max</td>\n",
       "      <td>292.000000</td>\n",
       "      <td>284.000000</td>\n",
       "    </tr>\n",
       "  </tbody>\n",
       "</table>\n",
       "</div>"
      ],
      "text/plain": [
       "       winner_first_serve_points_won  loser_first_serve_points_won\n",
       "count                   91863.000000                  91863.000000\n",
       "mean                       34.489882                     30.546346\n",
       "std                        13.673104                     14.231268\n",
       "min                         0.000000                      0.000000\n",
       "25%                        25.000000                     21.000000\n",
       "50%                        32.000000                     28.000000\n",
       "75%                        41.000000                     38.000000\n",
       "max                       292.000000                    284.000000"
      ]
     },
     "execution_count": 50,
     "metadata": {},
     "output_type": "execute_result"
    }
   ],
   "source": [
    "matchstats1[['winner_first_serve_points_won','loser_first_serve_points_won']].describe()"
   ]
  },
  {
   "cell_type": "code",
   "execution_count": 51,
   "metadata": {},
   "outputs": [
    {
     "data": {
      "text/html": [
       "<div>\n",
       "<style scoped>\n",
       "    .dataframe tbody tr th:only-of-type {\n",
       "        vertical-align: middle;\n",
       "    }\n",
       "\n",
       "    .dataframe tbody tr th {\n",
       "        vertical-align: top;\n",
       "    }\n",
       "\n",
       "    .dataframe thead th {\n",
       "        text-align: right;\n",
       "    }\n",
       "</style>\n",
       "<table border=\"1\" class=\"dataframe\">\n",
       "  <thead>\n",
       "    <tr style=\"text-align: right;\">\n",
       "      <th></th>\n",
       "      <th>winner_second_serve_points_won</th>\n",
       "      <th>loser_second_serve_points_won</th>\n",
       "    </tr>\n",
       "  </thead>\n",
       "  <tbody>\n",
       "    <tr>\n",
       "      <td>count</td>\n",
       "      <td>91863.000000</td>\n",
       "      <td>91863.000000</td>\n",
       "    </tr>\n",
       "    <tr>\n",
       "      <td>mean</td>\n",
       "      <td>16.273472</td>\n",
       "      <td>14.518500</td>\n",
       "    </tr>\n",
       "    <tr>\n",
       "      <td>std</td>\n",
       "      <td>7.000368</td>\n",
       "      <td>7.202502</td>\n",
       "    </tr>\n",
       "    <tr>\n",
       "      <td>min</td>\n",
       "      <td>0.000000</td>\n",
       "      <td>0.000000</td>\n",
       "    </tr>\n",
       "    <tr>\n",
       "      <td>25%</td>\n",
       "      <td>12.000000</td>\n",
       "      <td>9.000000</td>\n",
       "    </tr>\n",
       "    <tr>\n",
       "      <td>50%</td>\n",
       "      <td>15.000000</td>\n",
       "      <td>14.000000</td>\n",
       "    </tr>\n",
       "    <tr>\n",
       "      <td>75%</td>\n",
       "      <td>20.000000</td>\n",
       "      <td>19.000000</td>\n",
       "    </tr>\n",
       "    <tr>\n",
       "      <td>max</td>\n",
       "      <td>82.000000</td>\n",
       "      <td>101.000000</td>\n",
       "    </tr>\n",
       "  </tbody>\n",
       "</table>\n",
       "</div>"
      ],
      "text/plain": [
       "       winner_second_serve_points_won  loser_second_serve_points_won\n",
       "count                    91863.000000                   91863.000000\n",
       "mean                        16.273472                      14.518500\n",
       "std                          7.000368                       7.202502\n",
       "min                          0.000000                       0.000000\n",
       "25%                         12.000000                       9.000000\n",
       "50%                         15.000000                      14.000000\n",
       "75%                         20.000000                      19.000000\n",
       "max                         82.000000                     101.000000"
      ]
     },
     "execution_count": 51,
     "metadata": {},
     "output_type": "execute_result"
    }
   ],
   "source": [
    "matchstats1[['winner_second_serve_points_won','loser_second_serve_points_won']].describe()"
   ]
  },
  {
   "cell_type": "code",
   "execution_count": 52,
   "metadata": {},
   "outputs": [
    {
     "data": {
      "text/html": [
       "<div>\n",
       "<style scoped>\n",
       "    .dataframe tbody tr th:only-of-type {\n",
       "        vertical-align: middle;\n",
       "    }\n",
       "\n",
       "    .dataframe tbody tr th {\n",
       "        vertical-align: top;\n",
       "    }\n",
       "\n",
       "    .dataframe thead th {\n",
       "        text-align: right;\n",
       "    }\n",
       "</style>\n",
       "<table border=\"1\" class=\"dataframe\">\n",
       "  <thead>\n",
       "    <tr style=\"text-align: right;\">\n",
       "      <th></th>\n",
       "      <th>winner_service_points_won</th>\n",
       "      <th>loser_service_points_won</th>\n",
       "    </tr>\n",
       "  </thead>\n",
       "  <tbody>\n",
       "    <tr>\n",
       "      <td>count</td>\n",
       "      <td>91863.000000</td>\n",
       "      <td>91863.000000</td>\n",
       "    </tr>\n",
       "    <tr>\n",
       "      <td>mean</td>\n",
       "      <td>50.760665</td>\n",
       "      <td>45.059992</td>\n",
       "    </tr>\n",
       "    <tr>\n",
       "      <td>std</td>\n",
       "      <td>18.426164</td>\n",
       "      <td>19.628782</td>\n",
       "    </tr>\n",
       "    <tr>\n",
       "      <td>min</td>\n",
       "      <td>0.000000</td>\n",
       "      <td>0.000000</td>\n",
       "    </tr>\n",
       "    <tr>\n",
       "      <td>25%</td>\n",
       "      <td>38.000000</td>\n",
       "      <td>31.000000</td>\n",
       "    </tr>\n",
       "    <tr>\n",
       "      <td>50%</td>\n",
       "      <td>47.000000</td>\n",
       "      <td>42.000000</td>\n",
       "    </tr>\n",
       "    <tr>\n",
       "      <td>75%</td>\n",
       "      <td>60.000000</td>\n",
       "      <td>56.000000</td>\n",
       "    </tr>\n",
       "    <tr>\n",
       "      <td>max</td>\n",
       "      <td>374.000000</td>\n",
       "      <td>385.000000</td>\n",
       "    </tr>\n",
       "  </tbody>\n",
       "</table>\n",
       "</div>"
      ],
      "text/plain": [
       "       winner_service_points_won  loser_service_points_won\n",
       "count               91863.000000              91863.000000\n",
       "mean                   50.760665                 45.059992\n",
       "std                    18.426164                 19.628782\n",
       "min                     0.000000                  0.000000\n",
       "25%                    38.000000                 31.000000\n",
       "50%                    47.000000                 42.000000\n",
       "75%                    60.000000                 56.000000\n",
       "max                   374.000000                385.000000"
      ]
     },
     "execution_count": 52,
     "metadata": {},
     "output_type": "execute_result"
    }
   ],
   "source": [
    "matchstats1[['winner_service_points_won','loser_service_points_won']].describe()"
   ]
  },
  {
   "cell_type": "code",
   "execution_count": 53,
   "metadata": {},
   "outputs": [
    {
     "data": {
      "text/html": [
       "<div>\n",
       "<style scoped>\n",
       "    .dataframe tbody tr th:only-of-type {\n",
       "        vertical-align: middle;\n",
       "    }\n",
       "\n",
       "    .dataframe tbody tr th {\n",
       "        vertical-align: top;\n",
       "    }\n",
       "\n",
       "    .dataframe thead th {\n",
       "        text-align: right;\n",
       "    }\n",
       "</style>\n",
       "<table border=\"1\" class=\"dataframe\">\n",
       "  <thead>\n",
       "    <tr style=\"text-align: right;\">\n",
       "      <th></th>\n",
       "      <th>winner_break_points_converted</th>\n",
       "      <th>loser_break_points_converted</th>\n",
       "    </tr>\n",
       "  </thead>\n",
       "  <tbody>\n",
       "    <tr>\n",
       "      <td>count</td>\n",
       "      <td>91863.000000</td>\n",
       "      <td>91863.000000</td>\n",
       "    </tr>\n",
       "    <tr>\n",
       "      <td>mean</td>\n",
       "      <td>3.903530</td>\n",
       "      <td>1.607492</td>\n",
       "    </tr>\n",
       "    <tr>\n",
       "      <td>std</td>\n",
       "      <td>1.672577</td>\n",
       "      <td>1.556426</td>\n",
       "    </tr>\n",
       "    <tr>\n",
       "      <td>min</td>\n",
       "      <td>0.000000</td>\n",
       "      <td>0.000000</td>\n",
       "    </tr>\n",
       "    <tr>\n",
       "      <td>25%</td>\n",
       "      <td>3.000000</td>\n",
       "      <td>0.000000</td>\n",
       "    </tr>\n",
       "    <tr>\n",
       "      <td>50%</td>\n",
       "      <td>4.000000</td>\n",
       "      <td>1.000000</td>\n",
       "    </tr>\n",
       "    <tr>\n",
       "      <td>75%</td>\n",
       "      <td>5.000000</td>\n",
       "      <td>2.000000</td>\n",
       "    </tr>\n",
       "    <tr>\n",
       "      <td>max</td>\n",
       "      <td>15.000000</td>\n",
       "      <td>26.000000</td>\n",
       "    </tr>\n",
       "  </tbody>\n",
       "</table>\n",
       "</div>"
      ],
      "text/plain": [
       "       winner_break_points_converted  loser_break_points_converted\n",
       "count                   91863.000000                  91863.000000\n",
       "mean                        3.903530                      1.607492\n",
       "std                         1.672577                      1.556426\n",
       "min                         0.000000                      0.000000\n",
       "25%                         3.000000                      0.000000\n",
       "50%                         4.000000                      1.000000\n",
       "75%                         5.000000                      2.000000\n",
       "max                        15.000000                     26.000000"
      ]
     },
     "execution_count": 53,
     "metadata": {},
     "output_type": "execute_result"
    }
   ],
   "source": [
    "matchstats1[['winner_break_points_converted','loser_break_points_converted']].describe()"
   ]
  },
  {
   "cell_type": "code",
   "execution_count": 54,
   "metadata": {},
   "outputs": [
    {
     "data": {
      "text/html": [
       "<div>\n",
       "<style scoped>\n",
       "    .dataframe tbody tr th:only-of-type {\n",
       "        vertical-align: middle;\n",
       "    }\n",
       "\n",
       "    .dataframe tbody tr th {\n",
       "        vertical-align: top;\n",
       "    }\n",
       "\n",
       "    .dataframe thead th {\n",
       "        text-align: right;\n",
       "    }\n",
       "</style>\n",
       "<table border=\"1\" class=\"dataframe\">\n",
       "  <thead>\n",
       "    <tr style=\"text-align: right;\">\n",
       "      <th></th>\n",
       "      <th>winner_return_points_won</th>\n",
       "      <th>loser_return_points_won</th>\n",
       "    </tr>\n",
       "  </thead>\n",
       "  <tbody>\n",
       "    <tr>\n",
       "      <td>count</td>\n",
       "      <td>91863.000000</td>\n",
       "      <td>91863.000000</td>\n",
       "    </tr>\n",
       "    <tr>\n",
       "      <td>mean</td>\n",
       "      <td>33.265874</td>\n",
       "      <td>24.759588</td>\n",
       "    </tr>\n",
       "    <tr>\n",
       "      <td>std</td>\n",
       "      <td>11.710127</td>\n",
       "      <td>12.642407</td>\n",
       "    </tr>\n",
       "    <tr>\n",
       "      <td>min</td>\n",
       "      <td>0.000000</td>\n",
       "      <td>0.000000</td>\n",
       "    </tr>\n",
       "    <tr>\n",
       "      <td>25%</td>\n",
       "      <td>26.000000</td>\n",
       "      <td>16.000000</td>\n",
       "    </tr>\n",
       "    <tr>\n",
       "      <td>50%</td>\n",
       "      <td>31.000000</td>\n",
       "      <td>23.000000</td>\n",
       "    </tr>\n",
       "    <tr>\n",
       "      <td>75%</td>\n",
       "      <td>39.000000</td>\n",
       "      <td>32.000000</td>\n",
       "    </tr>\n",
       "    <tr>\n",
       "      <td>max</td>\n",
       "      <td>112.000000</td>\n",
       "      <td>126.000000</td>\n",
       "    </tr>\n",
       "  </tbody>\n",
       "</table>\n",
       "</div>"
      ],
      "text/plain": [
       "       winner_return_points_won  loser_return_points_won\n",
       "count              91863.000000             91863.000000\n",
       "mean                  33.265874                24.759588\n",
       "std                   11.710127                12.642407\n",
       "min                    0.000000                 0.000000\n",
       "25%                   26.000000                16.000000\n",
       "50%                   31.000000                23.000000\n",
       "75%                   39.000000                32.000000\n",
       "max                  112.000000               126.000000"
      ]
     },
     "execution_count": 54,
     "metadata": {},
     "output_type": "execute_result"
    }
   ],
   "source": [
    "matchstats1[['winner_return_points_won','loser_return_points_won']].describe()"
   ]
  },
  {
   "cell_type": "code",
   "execution_count": 55,
   "metadata": {},
   "outputs": [
    {
     "data": {
      "text/html": [
       "<div>\n",
       "<style scoped>\n",
       "    .dataframe tbody tr th:only-of-type {\n",
       "        vertical-align: middle;\n",
       "    }\n",
       "\n",
       "    .dataframe tbody tr th {\n",
       "        vertical-align: top;\n",
       "    }\n",
       "\n",
       "    .dataframe thead th {\n",
       "        text-align: right;\n",
       "    }\n",
       "</style>\n",
       "<table border=\"1\" class=\"dataframe\">\n",
       "  <thead>\n",
       "    <tr style=\"text-align: right;\">\n",
       "      <th></th>\n",
       "      <th>winner_total_points_won</th>\n",
       "      <th>loser_total_points_won</th>\n",
       "    </tr>\n",
       "  </thead>\n",
       "  <tbody>\n",
       "    <tr>\n",
       "      <td>count</td>\n",
       "      <td>91863.000000</td>\n",
       "      <td>91863.000000</td>\n",
       "    </tr>\n",
       "    <tr>\n",
       "      <td>mean</td>\n",
       "      <td>84.024613</td>\n",
       "      <td>69.785659</td>\n",
       "    </tr>\n",
       "    <tr>\n",
       "      <td>std</td>\n",
       "      <td>27.836543</td>\n",
       "      <td>30.291492</td>\n",
       "    </tr>\n",
       "    <tr>\n",
       "      <td>min</td>\n",
       "      <td>0.000000</td>\n",
       "      <td>0.000000</td>\n",
       "    </tr>\n",
       "    <tr>\n",
       "      <td>25%</td>\n",
       "      <td>65.000000</td>\n",
       "      <td>48.000000</td>\n",
       "    </tr>\n",
       "    <tr>\n",
       "      <td>50%</td>\n",
       "      <td>78.000000</td>\n",
       "      <td>65.000000</td>\n",
       "    </tr>\n",
       "    <tr>\n",
       "      <td>75%</td>\n",
       "      <td>99.000000</td>\n",
       "      <td>88.000000</td>\n",
       "    </tr>\n",
       "    <tr>\n",
       "      <td>max</td>\n",
       "      <td>478.000000</td>\n",
       "      <td>502.000000</td>\n",
       "    </tr>\n",
       "  </tbody>\n",
       "</table>\n",
       "</div>"
      ],
      "text/plain": [
       "       winner_total_points_won  loser_total_points_won\n",
       "count             91863.000000            91863.000000\n",
       "mean                 84.024613               69.785659\n",
       "std                  27.836543               30.291492\n",
       "min                   0.000000                0.000000\n",
       "25%                  65.000000               48.000000\n",
       "50%                  78.000000               65.000000\n",
       "75%                  99.000000               88.000000\n",
       "max                 478.000000              502.000000"
      ]
     },
     "execution_count": 55,
     "metadata": {},
     "output_type": "execute_result"
    }
   ],
   "source": [
    "matchstats1[['winner_total_points_won','loser_total_points_won']].describe()"
   ]
  },
  {
   "cell_type": "code",
   "execution_count": 56,
   "metadata": {},
   "outputs": [
    {
     "data": {
      "image/png": "[encoded data removed]",
      "text/plain": [
       "<Figure size 432x288 with 1 Axes>"
      ]
     },
     "metadata": {
      "needs_background": "light"
     },
     "output_type": "display_data"
    }
   ],
   "source": [
    "# matchstats1[:50]['winner_aces'].plot.line()\n",
    "# plt.plot.line(matchstats1[:50]['winner_aces'].mean(), color='blue')\n",
    "plt.plot(matchstats1[:100]['winner_aces'], color='blue')\n",
    "plt.plot(matchstats1[:100]['loser_aces'],color='red',linestyle=':')\n",
    "plt.ylabel('aces per match')\n",
    "sns.set_style(\"darkgrid\")\n",
    "plt.show()"
   ]
  },
  {
   "cell_type": "code",
   "execution_count": 57,
   "metadata": {},
   "outputs": [
    {
     "name": "stdout",
     "output_type": "stream",
     "text": [
      "Average difference between winner and loser aces is:  0.84 .\n"
     ]
    },
    {
     "data": {
      "image/png": "[encoded data removed]",
      "text/plain": [
       "<Figure size 432x288 with 1 Axes>"
      ]
     },
     "metadata": {},
     "output_type": "display_data"
    }
   ],
   "source": [
    "ace_diff = matchstats1[\"winner_aces\"] - matchstats1[\"loser_aces\"]\n",
    "plt.plot(ace_diff[0:200])\n",
    "plt.ylabel('winner - loser aces per match')\n",
    "plt.show\n",
    "print(\"Average difference between winner and loser aces is: \", ace_diff[:100].mean(),\".\")"
   ]
  },
  {
   "cell_type": "code",
   "execution_count": 58,
   "metadata": {},
   "outputs": [
    {
     "name": "stdout",
     "output_type": "stream",
     "text": [
      "Average difference between winner and loser total points is:  15.375 .\n"
     ]
    },
    {
     "data": {
      "image/png": "[encoded data removed]",
      "text/plain": [
       "<Figure size 432x288 with 1 Axes>"
      ]
     },
     "metadata": {},
     "output_type": "display_data"
    }
   ],
   "source": [
    "total_pts_diff = matchstats1[\"winner_total_points_won\"] - matchstats[\"loser_total_points_won\"]\n",
    "plt.plot(total_pts_diff[0:200])\n",
    "plt.show\n",
    "print(\"Average difference between winner and loser total points is: \", total_pts_diff[:200].mean(),\".\")"
   ]
  },
  {
   "cell_type": "code",
   "execution_count": 59,
   "metadata": {},
   "outputs": [
    {
     "name": "stdout",
     "output_type": "stream",
     "text": [
      "Average difference between winner and loser double faults is:  12.63 .\n"
     ]
    },
    {
     "data": {
      "image/png": "[encoded data removed]",
      "text/plain": [
       "<Figure size 432x288 with 1 Axes>"
      ]
     },
     "metadata": {},
     "output_type": "display_data"
    }
   ],
   "source": [
    "doubl_fault_diff = matchstats1[\"winner_double_faults\"] - matchstats1[\"loser_double_faults\"]\n",
    "plt.plot(doubl_fault_diff[0:100])\n",
    "plt.show\n",
    "print(\"Average difference between winner and loser double faults is: \", total_pts_diff[:100].mean(),\".\")"
   ]
  },
  {
   "cell_type": "code",
   "execution_count": 60,
   "metadata": {},
   "outputs": [
    {
     "data": {
      "text/html": [
       "<div>\n",
       "<style scoped>\n",
       "    .dataframe tbody tr th:only-of-type {\n",
       "        vertical-align: middle;\n",
       "    }\n",
       "\n",
       "    .dataframe tbody tr th {\n",
       "        vertical-align: top;\n",
       "    }\n",
       "\n",
       "    .dataframe thead th {\n",
       "        text-align: right;\n",
       "    }\n",
       "</style>\n",
       "<table border=\"1\" class=\"dataframe\">\n",
       "  <thead>\n",
       "    <tr style=\"text-align: right;\">\n",
       "      <th></th>\n",
       "      <th>result</th>\n",
       "      <th>score</th>\n",
       "    </tr>\n",
       "  </thead>\n",
       "  <tbody>\n",
       "    <tr>\n",
       "      <td>0</td>\n",
       "      <td>1</td>\n",
       "      <td>15.858093</td>\n",
       "    </tr>\n",
       "    <tr>\n",
       "      <td>1</td>\n",
       "      <td>1</td>\n",
       "      <td>17.037859</td>\n",
       "    </tr>\n",
       "    <tr>\n",
       "      <td>2</td>\n",
       "      <td>1</td>\n",
       "      <td>16.417989</td>\n",
       "    </tr>\n",
       "    <tr>\n",
       "      <td>3</td>\n",
       "      <td>1</td>\n",
       "      <td>14.548098</td>\n",
       "    </tr>\n",
       "    <tr>\n",
       "      <td>4</td>\n",
       "      <td>1</td>\n",
       "      <td>15.997183</td>\n",
       "    </tr>\n",
       "  </tbody>\n",
       "</table>\n",
       "</div>"
      ],
      "text/plain": [
       "  result      score\n",
       "0      1  15.858093\n",
       "1      1  17.037859\n",
       "2      1  16.417989\n",
       "3      1  14.548098\n",
       "4      1  15.997183"
      ]
     },
     "execution_count": 60,
     "metadata": {},
     "output_type": "execute_result"
    }
   ],
   "source": [
    "# Create a \"Match Performance Score\" based on statistics in key categories for the winner.\n",
    "winner_perf_score = (matchstats1[\"winner_service_points_won\"]/matchstats1[\"winner_service_points_total\"]) * matchstats1[\"winner_service_games_played\"] - (matchstats1[\"winner_break_points_serve_total\"] - matchstats1[\"winner_break_points_saved\"]) / matchstats1[\"winner_service_games_played\"] + matchstats1[\"winner_break_points_converted\"] + (matchstats1[\"winner_return_points_won\"] / matchstats1[\"winner_return_points_total\"]) * matchstats1[\"winner_return_games_played\"]\n",
    "perf_winner = pd.DataFrame(winner_perf_score)\n",
    "perf_winner.insert(0,'result','1')\n",
    "col_name = ['result', 'score']\n",
    "perf_winner.columns = col_name\n",
    "perf_winner.head()"
   ]
  },
  {
   "cell_type": "code",
   "execution_count": 61,
   "metadata": {},
   "outputs": [
    {
     "data": {
      "text/html": [
       "<div>\n",
       "<style scoped>\n",
       "    .dataframe tbody tr th:only-of-type {\n",
       "        vertical-align: middle;\n",
       "    }\n",
       "\n",
       "    .dataframe tbody tr th {\n",
       "        vertical-align: top;\n",
       "    }\n",
       "\n",
       "    .dataframe thead th {\n",
       "        text-align: right;\n",
       "    }\n",
       "</style>\n",
       "<table border=\"1\" class=\"dataframe\">\n",
       "  <thead>\n",
       "    <tr style=\"text-align: right;\">\n",
       "      <th></th>\n",
       "      <th>score</th>\n",
       "    </tr>\n",
       "  </thead>\n",
       "  <tbody>\n",
       "    <tr>\n",
       "      <td>count</td>\n",
       "      <td>90977.000000</td>\n",
       "    </tr>\n",
       "    <tr>\n",
       "      <td>mean</td>\n",
       "      <td>17.032952</td>\n",
       "    </tr>\n",
       "    <tr>\n",
       "      <td>std</td>\n",
       "      <td>4.479988</td>\n",
       "    </tr>\n",
       "    <tr>\n",
       "      <td>min</td>\n",
       "      <td>0.666667</td>\n",
       "    </tr>\n",
       "    <tr>\n",
       "      <td>25%</td>\n",
       "      <td>14.002515</td>\n",
       "    </tr>\n",
       "    <tr>\n",
       "      <td>50%</td>\n",
       "      <td>15.420833</td>\n",
       "    </tr>\n",
       "    <tr>\n",
       "      <td>75%</td>\n",
       "      <td>19.526493</td>\n",
       "    </tr>\n",
       "    <tr>\n",
       "      <td>max</td>\n",
       "      <td>89.896644</td>\n",
       "    </tr>\n",
       "  </tbody>\n",
       "</table>\n",
       "</div>"
      ],
      "text/plain": [
       "              score\n",
       "count  90977.000000\n",
       "mean      17.032952\n",
       "std        4.479988\n",
       "min        0.666667\n",
       "25%       14.002515\n",
       "50%       15.420833\n",
       "75%       19.526493\n",
       "max       89.896644"
      ]
     },
     "execution_count": 61,
     "metadata": {},
     "output_type": "execute_result"
    }
   ],
   "source": [
    "perf_winner.describe()"
   ]
  },
  {
   "cell_type": "code",
   "execution_count": 62,
   "metadata": {},
   "outputs": [
    {
     "data": {
      "text/html": [
       "<div>\n",
       "<style scoped>\n",
       "    .dataframe tbody tr th:only-of-type {\n",
       "        vertical-align: middle;\n",
       "    }\n",
       "\n",
       "    .dataframe tbody tr th {\n",
       "        vertical-align: top;\n",
       "    }\n",
       "\n",
       "    .dataframe thead th {\n",
       "        text-align: right;\n",
       "    }\n",
       "</style>\n",
       "<table border=\"1\" class=\"dataframe\">\n",
       "  <thead>\n",
       "    <tr style=\"text-align: right;\">\n",
       "      <th></th>\n",
       "      <th>result</th>\n",
       "      <th>score</th>\n",
       "    </tr>\n",
       "  </thead>\n",
       "  <tbody>\n",
       "    <tr>\n",
       "      <td>0</td>\n",
       "      <td>0</td>\n",
       "      <td>11.596453</td>\n",
       "    </tr>\n",
       "    <tr>\n",
       "      <td>1</td>\n",
       "      <td>0</td>\n",
       "      <td>13.378808</td>\n",
       "    </tr>\n",
       "    <tr>\n",
       "      <td>2</td>\n",
       "      <td>0</td>\n",
       "      <td>6.421296</td>\n",
       "    </tr>\n",
       "    <tr>\n",
       "      <td>3</td>\n",
       "      <td>0</td>\n",
       "      <td>9.674124</td>\n",
       "    </tr>\n",
       "    <tr>\n",
       "      <td>4</td>\n",
       "      <td>0</td>\n",
       "      <td>10.302817</td>\n",
       "    </tr>\n",
       "  </tbody>\n",
       "</table>\n",
       "</div>"
      ],
      "text/plain": [
       "  result      score\n",
       "0      0  11.596453\n",
       "1      0  13.378808\n",
       "2      0   6.421296\n",
       "3      0   9.674124\n",
       "4      0  10.302817"
      ]
     },
     "execution_count": 62,
     "metadata": {},
     "output_type": "execute_result"
    }
   ],
   "source": [
    "# Create a \"Match Performance Score\" based on statistics in key categories for the loser.\n",
    "loser_perf_score = ((matchstats1[\"loser_service_points_won\"]/matchstats1[\"loser_service_points_total\"]) * matchstats1[\"loser_service_games_played\"] - (matchstats1[\"loser_break_points_serve_total\"] - matchstats1[\"loser_break_points_saved\"]) / matchstats1[\"loser_service_games_played\"] + matchstats1[\"loser_break_points_converted\"] + (matchstats1[\"loser_return_points_won\"] / matchstats1[\"loser_return_points_total\"]) * matchstats1[\"loser_return_games_played\"])\n",
    "perf_loser = pd.DataFrame(loser_perf_score)\n",
    "perf_loser.insert(0,'result','0')\n",
    "col_name = ['result', 'score']\n",
    "perf_loser.columns = col_name\n",
    "perf_loser.head()"
   ]
  },
  {
   "cell_type": "code",
   "execution_count": 63,
   "metadata": {},
   "outputs": [
    {
     "data": {
      "text/html": [
       "<div>\n",
       "<style scoped>\n",
       "    .dataframe tbody tr th:only-of-type {\n",
       "        vertical-align: middle;\n",
       "    }\n",
       "\n",
       "    .dataframe tbody tr th {\n",
       "        vertical-align: top;\n",
       "    }\n",
       "\n",
       "    .dataframe thead th {\n",
       "        text-align: right;\n",
       "    }\n",
       "</style>\n",
       "<table border=\"1\" class=\"dataframe\">\n",
       "  <thead>\n",
       "    <tr style=\"text-align: right;\">\n",
       "      <th></th>\n",
       "      <th>score</th>\n",
       "    </tr>\n",
       "  </thead>\n",
       "  <tbody>\n",
       "    <tr>\n",
       "      <td>count</td>\n",
       "      <td>90842.000000</td>\n",
       "    </tr>\n",
       "    <tr>\n",
       "      <td>mean</td>\n",
       "      <td>12.044360</td>\n",
       "    </tr>\n",
       "    <tr>\n",
       "      <td>std</td>\n",
       "      <td>5.455343</td>\n",
       "    </tr>\n",
       "    <tr>\n",
       "      <td>min</td>\n",
       "      <td>-1.000000</td>\n",
       "    </tr>\n",
       "    <tr>\n",
       "      <td>25%</td>\n",
       "      <td>8.007503</td>\n",
       "    </tr>\n",
       "    <tr>\n",
       "      <td>50%</td>\n",
       "      <td>10.934369</td>\n",
       "    </tr>\n",
       "    <tr>\n",
       "      <td>75%</td>\n",
       "      <td>15.617384</td>\n",
       "    </tr>\n",
       "    <tr>\n",
       "      <td>max</td>\n",
       "      <td>94.070267</td>\n",
       "    </tr>\n",
       "  </tbody>\n",
       "</table>\n",
       "</div>"
      ],
      "text/plain": [
       "              score\n",
       "count  90842.000000\n",
       "mean      12.044360\n",
       "std        5.455343\n",
       "min       -1.000000\n",
       "25%        8.007503\n",
       "50%       10.934369\n",
       "75%       15.617384\n",
       "max       94.070267"
      ]
     },
     "execution_count": 63,
     "metadata": {},
     "output_type": "execute_result"
    }
   ],
   "source": [
    "perf_loser.describe()"
   ]
  },
  {
   "cell_type": "code",
   "execution_count": 64,
   "metadata": {},
   "outputs": [],
   "source": [
    "n_win = len(winner_perf_score)\n",
    "n_lose = len(loser_perf_score)"
   ]
  },
  {
   "cell_type": "code",
   "execution_count": null,
   "metadata": {},
   "outputs": [],
   "source": []
  },
  {
   "cell_type": "code",
   "execution_count": 65,
   "metadata": {},
   "outputs": [
    {
     "name": "stderr",
     "output_type": "stream",
     "text": [
      "C:\\Users\\ironm\\AppData\\Local\\Continuum\\anaconda3\\lib\\site-packages\\numpy\\lib\\histograms.py:824: RuntimeWarning: invalid value encountered in greater_equal\n",
      "  keep = (tmp_a >= first_edge)\n",
      "C:\\Users\\ironm\\AppData\\Local\\Continuum\\anaconda3\\lib\\site-packages\\numpy\\lib\\histograms.py:825: RuntimeWarning: invalid value encountered in less_equal\n",
      "  keep &= (tmp_a <= last_edge)\n"
     ]
    },
    {
     "data": {
      "image/png": "[encoded data removed]",
      "text/plain": [
       "<Figure size 432x288 with 1 Axes>"
      ]
     },
     "metadata": {},
     "output_type": "display_data"
    }
   ],
   "source": [
    "_ = plt.hist(winner_perf_score, bins=30, alpha=0.5, label='winner performance score')\n",
    "_ = plt.hist(loser_perf_score, bins=30, alpha=0.5, label='loser performance score')\n",
    "_ = plt.xlabel('Performance Score')\n",
    "_ = plt.ylabel('Frequency')\n",
    "_ = plt.legend()"
   ]
  },
  {
   "cell_type": "code",
   "execution_count": 66,
   "metadata": {},
   "outputs": [
    {
     "data": {
      "text/plain": [
       "(14.455426273872423, 1.1783085360740435)"
      ]
     },
     "execution_count": 66,
     "metadata": {},
     "output_type": "execute_result"
    }
   ],
   "source": [
    "alpha_est = np.mean(winner_perf_score)**2 / np.var(winner_perf_score)\n",
    "beta_est = np.var(winner_perf_score) / np.mean(winner_perf_score)\n",
    "alpha_est, beta_est"
   ]
  },
  {
   "cell_type": "code",
   "execution_count": 67,
   "metadata": {},
   "outputs": [],
   "source": [
    "import pymc3 as pm\n",
    "from numpy.random import seed\n",
    "from scipy.stats import gamma"
   ]
  },
  {
   "cell_type": "code",
   "execution_count": 68,
   "metadata": {},
   "outputs": [],
   "source": [
    "seed(47)\n",
    "loser_model_rvs = gamma(alpha_est, scale=beta_est).rvs(n_lose)"
   ]
  },
  {
   "cell_type": "code",
   "execution_count": 69,
   "metadata": {},
   "outputs": [
    {
     "data": {
      "image/png": "[encoded data removed]",
      "text/plain": [
       "<Figure size 432x288 with 1 Axes>"
      ]
     },
     "metadata": {},
     "output_type": "display_data"
    }
   ],
   "source": [
    "_ = plt.hist(loser_model_rvs, bins=30, alpha=0.5, label='simulated')\n",
    "_ = plt.hist(loser_perf_score, bins=30, alpha=0.5, label='observed')\n",
    "_ = plt.xlabel('Loser Performance Score')\n",
    "_ = plt.ylabel('Frequency')\n",
    "_ = plt.legend()"
   ]
  },
  {
   "cell_type": "code",
   "execution_count": 70,
   "metadata": {},
   "outputs": [
    {
     "data": {
      "text/plain": [
       "(14.455426273872423, 0.84867415399693)"
      ]
     },
     "execution_count": 70,
     "metadata": {},
     "output_type": "execute_result"
    }
   ],
   "source": [
    "# PyMC3 Gamma seems to use rate = 1/beta\n",
    "rate_est = 1/beta_est\n",
    "# Initial parameter estimates we'll use below\n",
    "alpha_est, rate_est"
   ]
  },
  {
   "cell_type": "code",
   "execution_count": null,
   "metadata": {},
   "outputs": [],
   "source": [
    "with pm.Model():\n",
    "    alpha_ = pm.Exponential(\"alpha\", 1/alpha_est)\n",
    "    rate_ = pm.Exponential(\"beta\", 1/rate_est)\n",
    "    score_loser = pm.Gamma(\"loser_perf_score\", alpha=alpha_, beta=rate_, observed=loser_perf_score)\n",
    "    trace = pm.sample(10000)"
   ]
  },
  {
   "cell_type": "code",
   "execution_count": null,
   "metadata": {},
   "outputs": [],
   "source": []
  },
  {
   "cell_type": "code",
   "execution_count": null,
   "metadata": {},
   "outputs": [],
   "source": []
  },
  {
   "cell_type": "code",
   "execution_count": null,
   "metadata": {},
   "outputs": [],
   "source": []
  },
  {
   "cell_type": "code",
   "execution_count": null,
   "metadata": {},
   "outputs": [],
   "source": []
  }
 ],
 "metadata": {
  "kernelspec": {
   "display_name": "Python 3",
   "language": "python",
   "name": "python3"
  },
  "language_info": {
   "codemirror_mode": {
    "name": "ipython",
    "version": 3
   },
   "file_extension": ".py",
   "mimetype": "text/x-python",
   "name": "python",
   "nbconvert_exporter": "python",
   "pygments_lexer": "ipython3",
   "version": "3.7.4"
  }
 },
 "nbformat": 4,
 "nbformat_minor": 4
}
