{
 "cells": [
  {
   "cell_type": "code",
   "execution_count": 1,
   "metadata": {},
   "outputs": [],
   "source": [
    "import pandas as pd, matplotlib.pyplot as plt, numpy as np, seaborn as sns, sklearn as sk\n",
    "import csv"
   ]
  },
  {
   "cell_type": "markdown",
   "metadata": {},
   "source": [
    "### Tournmanet Dataframe"
   ]
  },
  {
   "cell_type": "code",
   "execution_count": 2,
   "metadata": {},
   "outputs": [],
   "source": [
    "# Import tournaments data and create dataframe, adding column headings.\n",
    "tournaments = pd.read_csv('data/tournaments_1877-2017_UNINDEXED.csv', header=None)\n",
    "tournamentscolumns = ['tourney_year','tourney_order','tourney_name','tourney_id','tourney_slug','tourney_location',\n",
    "                      'tourney_dates','tourney_month','tourney_day','tourney_singles_draw','tourney_doubles_draw',\n",
    "                      'tourney_conditions','tourney_surface','tourney_fin_commit','tourney_url_suffix','singles_winner_name',\n",
    "                      'singles_winner_url','singles_winner_player_slug','singles_winner_player_id','doubles_winner_1_name',\n",
    "                      'doubles_winner_1_url','doubles_winner_1_player_slug','doubles_winner_1_player_id','doubles_winner_2_name',\n",
    "                      'doubles_winner_2_url','doubles_winner_2_player_slug','doubles_winner_2_player_id','tourney_year_id']\n",
    "tournaments.columns = tournamentscolumns"
   ]
  },
  {
   "cell_type": "code",
   "execution_count": 3,
   "metadata": {},
   "outputs": [],
   "source": [
    "# Drop unnecessary columns in tournaments. (Only keep 'tourney_dates' and 'tourney_year_id'). Will allow match dates to be included in model.\n",
    "tournaments.drop([\"tourney_year\",\"tourney_order\",\"tourney_name\",\"tourney_id\",\"tourney_slug\",\"tourney_location\",\n",
    "                  \"tourney_month\",\"tourney_day\",\"tourney_singles_draw\",\"tourney_doubles_draw\",\"tourney_conditions\",\"tourney_surface\",\n",
    "                  \"tourney_fin_commit\",\"tourney_url_suffix\",\"singles_winner_name\",\"singles_winner_url\",\"singles_winner_player_slug\",\n",
    "                  \"singles_winner_player_id\",\"doubles_winner_1_name\",\"doubles_winner_1_url\",\"doubles_winner_1_player_slug\",\n",
    "                  \"doubles_winner_1_player_id\",\"doubles_winner_2_name\",\"doubles_winner_2_url\",\"doubles_winner_2_player_slug\",\n",
    "                  \"doubles_winner_2_player_id\"], inplace=True, axis=1)"
   ]
  },
  {
   "cell_type": "code",
   "execution_count": 4,
   "metadata": {},
   "outputs": [],
   "source": [
    "# Convert tournament date strings to datetime objects.\n",
    "tournaments['tourney_dates'] = pd.to_datetime(pd.Series(tournaments['tourney_dates']))"
   ]
  },
  {
   "cell_type": "code",
   "execution_count": 5,
   "metadata": {},
   "outputs": [],
   "source": [
    "tournaments = tournaments[(tournaments['tourney_dates'].dt.year > 1989) ]"
   ]
  },
  {
   "cell_type": "code",
   "execution_count": 6,
   "metadata": {},
   "outputs": [
    {
     "name": "stdout",
     "output_type": "stream",
     "text": [
      "<class 'pandas.core.frame.DataFrame'>\n",
      "Int64Index: 2054 entries, 2060 to 4113\n",
      "Data columns (total 2 columns):\n",
      "tourney_dates      2054 non-null datetime64[ns]\n",
      "tourney_year_id    2054 non-null object\n",
      "dtypes: datetime64[ns](1), object(1)\n",
      "memory usage: 48.1+ KB\n"
     ]
    }
   ],
   "source": [
    "tournaments.info()"
   ]
  },
  {
   "cell_type": "markdown",
   "metadata": {},
   "source": [
    "### Scores Dataframe"
   ]
  },
  {
   "cell_type": "code",
   "execution_count": 7,
   "metadata": {},
   "outputs": [],
   "source": [
    "# Import scores data and create dataframe, adding column headings.\n",
    "scores = pd.read_csv('data/match_scores_1991-2016_unindexed.csv', header=None)\n",
    "scorescolumns = ['tourney_year_id','tourney_order','tourney_slug','tourney_url_suffix','tourney_round_name','round_order',\n",
    "                 'match_order','winner_name','winner_player_id','winner_slug','loser_name','loser_player_id','loser_slug',\n",
    "                 'winner_seed','loser_seed','match_score_tiebreaks','winner_sets_won','loser_sets_won','winner_games_won',\n",
    "                 'loser_games_won','winner_tiebreaks_won','loser_tiebreaks_won','match_id','match_stats_url_suffix']\n",
    "scores.columns = scorescolumns"
   ]
  },
  {
   "cell_type": "code",
   "execution_count": 8,
   "metadata": {},
   "outputs": [],
   "source": [
    "# Drop unnecessary columns in scores.\n",
    "scores.drop([\"tourney_order\",\"tourney_slug\",\"tourney_url_suffix\",\"tourney_round_name\",\"round_order\",\"match_order\",\"winner_name\",\n",
    "             \"winner_slug\",\"loser_name\",\"loser_slug\",\"winner_seed\",\"loser_seed\",\"match_stats_url_suffix\"], inplace=True, axis=1)"
   ]
  },
  {
   "cell_type": "code",
   "execution_count": 9,
   "metadata": {},
   "outputs": [],
   "source": [
    "# Drop empty rows in scores.\n",
    "nan_rows_scores = scores[ (scores['match_score_tiebreaks'].isnull() == True) ].index\n",
    "scores.drop(nan_rows_scores, inplace=True)"
   ]
  },
  {
   "cell_type": "markdown",
   "metadata": {},
   "source": [
    "### Winner and Loser Dataframes"
   ]
  },
  {
   "cell_type": "code",
   "execution_count": 10,
   "metadata": {},
   "outputs": [],
   "source": [
    "winner = pd.DataFrame([scores.tourney_year_id, scores.winner_player_id, scores.match_score_tiebreaks,\n",
    "                       scores.winner_sets_won, scores.winner_games_won, scores.winner_tiebreaks_won, scores.match_id]).transpose()"
   ]
  },
  {
   "cell_type": "code",
   "execution_count": null,
   "metadata": {},
   "outputs": [],
   "source": []
  },
  {
   "cell_type": "code",
   "execution_count": 11,
   "metadata": {},
   "outputs": [],
   "source": [
    "loser = pd.DataFrame([scores.tourney_year_id, scores.loser_player_id, scores.match_score_tiebreaks,\n",
    "                       scores.loser_sets_won, scores.loser_games_won, scores.loser_tiebreaks_won, scores.match_id]).transpose()"
   ]
  },
  {
   "cell_type": "code",
   "execution_count": 12,
   "metadata": {},
   "outputs": [],
   "source": [
    "winner = winner.rename(columns={'winner_player_id': 'player_id'})\n",
    "loser = loser.rename(columns={'loser_player_id': 'player_id'})"
   ]
  },
  {
   "cell_type": "code",
   "execution_count": 13,
   "metadata": {},
   "outputs": [],
   "source": [
    "winner = pd.merge(left=winner,right=tournaments,how='left',left_on='tourney_year_id',right_on='tourney_year_id')"
   ]
  },
  {
   "cell_type": "code",
   "execution_count": 14,
   "metadata": {},
   "outputs": [],
   "source": [
    "loser = pd.merge(left=loser,right=tournaments,how='left',left_on='tourney_year_id',right_on='tourney_year_id')"
   ]
  },
  {
   "cell_type": "code",
   "execution_count": 15,
   "metadata": {},
   "outputs": [
    {
     "data": {
      "text/html": [
       "<div>\n",
       "<style scoped>\n",
       "    .dataframe tbody tr th:only-of-type {\n",
       "        vertical-align: middle;\n",
       "    }\n",
       "\n",
       "    .dataframe tbody tr th {\n",
       "        vertical-align: top;\n",
       "    }\n",
       "\n",
       "    .dataframe thead th {\n",
       "        text-align: right;\n",
       "    }\n",
       "</style>\n",
       "<table border=\"1\" class=\"dataframe\">\n",
       "  <thead>\n",
       "    <tr style=\"text-align: right;\">\n",
       "      <th></th>\n",
       "      <th>tourney_year_id</th>\n",
       "      <th>player_id</th>\n",
       "      <th>match_score_tiebreaks</th>\n",
       "      <th>winner_sets_won</th>\n",
       "      <th>winner_games_won</th>\n",
       "      <th>winner_tiebreaks_won</th>\n",
       "      <th>match_id</th>\n",
       "      <th>tourney_dates</th>\n",
       "    </tr>\n",
       "  </thead>\n",
       "  <tbody>\n",
       "    <tr>\n",
       "      <td>0</td>\n",
       "      <td>1991-7308</td>\n",
       "      <td>k181</td>\n",
       "      <td>63 16 62</td>\n",
       "      <td>2</td>\n",
       "      <td>13</td>\n",
       "      <td>0</td>\n",
       "      <td>1991-7308-k181-s351</td>\n",
       "      <td>1990-12-31</td>\n",
       "    </tr>\n",
       "    <tr>\n",
       "      <td>1</td>\n",
       "      <td>1991-7308</td>\n",
       "      <td>s351</td>\n",
       "      <td>64 76(6)</td>\n",
       "      <td>2</td>\n",
       "      <td>13</td>\n",
       "      <td>1</td>\n",
       "      <td>1991-7308-s351-c243</td>\n",
       "      <td>1990-12-31</td>\n",
       "    </tr>\n",
       "    <tr>\n",
       "      <td>2</td>\n",
       "      <td>1991-7308</td>\n",
       "      <td>k181</td>\n",
       "      <td>75 64</td>\n",
       "      <td>2</td>\n",
       "      <td>13</td>\n",
       "      <td>0</td>\n",
       "      <td>1991-7308-k181-l206</td>\n",
       "      <td>1990-12-31</td>\n",
       "    </tr>\n",
       "    <tr>\n",
       "      <td>3</td>\n",
       "      <td>1991-7308</td>\n",
       "      <td>c243</td>\n",
       "      <td>76(3) 63</td>\n",
       "      <td>2</td>\n",
       "      <td>13</td>\n",
       "      <td>1</td>\n",
       "      <td>1991-7308-c243-s367</td>\n",
       "      <td>1990-12-31</td>\n",
       "    </tr>\n",
       "    <tr>\n",
       "      <td>4</td>\n",
       "      <td>1991-7308</td>\n",
       "      <td>s351</td>\n",
       "      <td>36 63 63</td>\n",
       "      <td>2</td>\n",
       "      <td>15</td>\n",
       "      <td>0</td>\n",
       "      <td>1991-7308-s351-a031</td>\n",
       "      <td>1990-12-31</td>\n",
       "    </tr>\n",
       "  </tbody>\n",
       "</table>\n",
       "</div>"
      ],
      "text/plain": [
       "  tourney_year_id player_id match_score_tiebreaks winner_sets_won  \\\n",
       "0       1991-7308      k181              63 16 62               2   \n",
       "1       1991-7308      s351              64 76(6)               2   \n",
       "2       1991-7308      k181                 75 64               2   \n",
       "3       1991-7308      c243              76(3) 63               2   \n",
       "4       1991-7308      s351              36 63 63               2   \n",
       "\n",
       "  winner_games_won winner_tiebreaks_won             match_id tourney_dates  \n",
       "0               13                    0  1991-7308-k181-s351    1990-12-31  \n",
       "1               13                    1  1991-7308-s351-c243    1990-12-31  \n",
       "2               13                    0  1991-7308-k181-l206    1990-12-31  \n",
       "3               13                    1  1991-7308-c243-s367    1990-12-31  \n",
       "4               15                    0  1991-7308-s351-a031    1990-12-31  "
      ]
     },
     "execution_count": 15,
     "metadata": {},
     "output_type": "execute_result"
    }
   ],
   "source": [
    "winner.head()"
   ]
  },
  {
   "cell_type": "markdown",
   "metadata": {},
   "source": [
    "### Rankings Dataframe"
   ]
  },
  {
   "cell_type": "code",
   "execution_count": 16,
   "metadata": {},
   "outputs": [],
   "source": [
    "rankings = pd.read_csv('data/rankings_1973-2017_csv.csv', header=0, low_memory=False)"
   ]
  },
  {
   "cell_type": "code",
   "execution_count": 17,
   "metadata": {},
   "outputs": [],
   "source": [
    "# Drop rows before 1990.\n",
    "drop_rank_rows = rankings[ (rankings['week_year'] < 1990)].index\n",
    "rankings = rankings.drop(drop_rank_rows)"
   ]
  },
  {
   "cell_type": "code",
   "execution_count": 18,
   "metadata": {},
   "outputs": [],
   "source": [
    "# Drop unnecessary columns in rankings.\n",
    "rankings.drop([\"move_positions\",\"move_direction\",\"player_age\",\"tourneys_played\",\"player_url\",\"player_slug\"], inplace=True, axis=1)"
   ]
  },
  {
   "cell_type": "code",
   "execution_count": 19,
   "metadata": {},
   "outputs": [],
   "source": [
    "# Convert rankings date strings to datetime objects.\n",
    "rankings['week_title'] = pd.to_datetime(pd.Series(rankings['week_title']))"
   ]
  },
  {
   "cell_type": "code",
   "execution_count": 20,
   "metadata": {},
   "outputs": [],
   "source": [
    "# Create 'date' column for later merging.\n",
    "rankings['date'] = rankings['week_title']"
   ]
  },
  {
   "cell_type": "code",
   "execution_count": 21,
   "metadata": {},
   "outputs": [],
   "source": [
    "# sort rankings by year, week, day and rank.\n",
    "rankings = rankings.sort_values(['week_title'])"
   ]
  },
  {
   "cell_type": "markdown",
   "metadata": {},
   "source": [
    "### Create dataframe to round dates."
   ]
  },
  {
   "cell_type": "code",
   "execution_count": 22,
   "metadata": {},
   "outputs": [],
   "source": [
    "# Create dataframe of all dates from Jan 1, 1991 to Dec 31, 2017.\n",
    "df=pd.DataFrame({'date':pd.date_range('1990-12-15','2017-12-31')})"
   ]
  },
  {
   "cell_type": "code",
   "execution_count": 23,
   "metadata": {},
   "outputs": [
    {
     "name": "stderr",
     "output_type": "stream",
     "text": [
      "C:\\Users\\ironm\\AppData\\Local\\Continuum\\anaconda3\\lib\\site-packages\\pandas\\core\\arrays\\datetimes.py:837: PerformanceWarning: Non-vectorized DateOffset being applied to Series or DatetimeIndex\n",
      "  PerformanceWarning,\n"
     ]
    }
   ],
   "source": [
    "# Create reference column for the beginning day of the week for each day.\n",
    "df['BeginWeek']=np.where(df.date.dt.weekday==0, # offset on Non Mondays only\n",
    "                        df['date'],\n",
    "                        df['date']-pd.DateOffset(weekday=0,weeks=1),\n",
    "                        )"
   ]
  },
  {
   "cell_type": "markdown",
   "metadata": {},
   "source": [
    "### Add rounding dates to model dataframes for merging."
   ]
  },
  {
   "cell_type": "code",
   "execution_count": 24,
   "metadata": {},
   "outputs": [],
   "source": [
    "rankings = pd.merge(left=rankings,right=df,how='left',left_on='date',right_on='date')"
   ]
  },
  {
   "cell_type": "code",
   "execution_count": 25,
   "metadata": {},
   "outputs": [],
   "source": [
    "winner = pd.merge(left=winner,right=df,how='left',left_on='tourney_dates', right_on='date')"
   ]
  },
  {
   "cell_type": "code",
   "execution_count": 26,
   "metadata": {},
   "outputs": [],
   "source": [
    "loser = pd.merge(left=loser,right=df,how='left',left_on='tourney_dates', right_on='date')"
   ]
  },
  {
   "cell_type": "markdown",
   "metadata": {},
   "source": [
    "### Clean rankings/winner/loser of redundant date columns."
   ]
  },
  {
   "cell_type": "code",
   "execution_count": 27,
   "metadata": {},
   "outputs": [],
   "source": [
    "# Drop unnecessary columns in rankings/winner/loser.\n",
    "rankings.drop([\"week_title\",\"date\",\"week_year\",\"week_month\",\"week_day\"], inplace=True, axis=1)\n",
    "winner.drop([\"tourney_dates\",\"date\"], inplace=True, axis=1)\n",
    "loser.drop([\"tourney_dates\",\"date\"], inplace=True, axis=1)"
   ]
  },
  {
   "cell_type": "markdown",
   "metadata": {},
   "source": [
    "### Merge rankings into winner and loser dataframes."
   ]
  },
  {
   "cell_type": "code",
   "execution_count": 28,
   "metadata": {},
   "outputs": [],
   "source": [
    "winner1 = pd.merge(winner,rankings,on=[\"player_id\",\"BeginWeek\"], how=\"left\")"
   ]
  },
  {
   "cell_type": "code",
   "execution_count": 29,
   "metadata": {},
   "outputs": [],
   "source": [
    "loser1 = pd.merge(loser,rankings,on=[\"player_id\",\"BeginWeek\"], how=\"left\")"
   ]
  },
  {
   "cell_type": "code",
   "execution_count": 30,
   "metadata": {},
   "outputs": [],
   "source": [
    "# Label specific columns by dataframe they come from in the respective columns to identify winner and loser info.\n",
    "winner1 = winner1.rename(columns={'player_id': 'winner_player_id'})\n",
    "winner1 = winner1.rename(columns={'rank_text': 'winner_rank_text'})\n",
    "winner1 = winner1.rename(columns={'rank_number': 'winner_rank_number'})\n",
    "winner1 = winner1.rename(columns={'ranking_points': 'winner_ranking_points'})\n",
    "loser1 = loser1.rename(columns={'player_id': 'loser_player_id'})\n",
    "loser1 = loser1.rename(columns={'rank_text': 'loser_rank_text'})\n",
    "loser1 = loser1.rename(columns={'rank_number': 'loser_rank_number'})\n",
    "loser1 = loser1.rename(columns={'ranking_points': 'loser_ranking_points'})"
   ]
  },
  {
   "cell_type": "code",
   "execution_count": 31,
   "metadata": {},
   "outputs": [
    {
     "data": {
      "text/html": [
       "<div>\n",
       "<style scoped>\n",
       "    .dataframe tbody tr th:only-of-type {\n",
       "        vertical-align: middle;\n",
       "    }\n",
       "\n",
       "    .dataframe tbody tr th {\n",
       "        vertical-align: top;\n",
       "    }\n",
       "\n",
       "    .dataframe thead th {\n",
       "        text-align: right;\n",
       "    }\n",
       "</style>\n",
       "<table border=\"1\" class=\"dataframe\">\n",
       "  <thead>\n",
       "    <tr style=\"text-align: right;\">\n",
       "      <th></th>\n",
       "      <th>tourney_year_id</th>\n",
       "      <th>winner_player_id</th>\n",
       "      <th>match_score_tiebreaks</th>\n",
       "      <th>winner_sets_won</th>\n",
       "      <th>winner_games_won</th>\n",
       "      <th>winner_tiebreaks_won</th>\n",
       "      <th>match_id</th>\n",
       "      <th>BeginWeek</th>\n",
       "      <th>winner_rank_text</th>\n",
       "      <th>winner_rank_number</th>\n",
       "      <th>winner_ranking_points</th>\n",
       "    </tr>\n",
       "  </thead>\n",
       "  <tbody>\n",
       "    <tr>\n",
       "      <td>0</td>\n",
       "      <td>1991-7308</td>\n",
       "      <td>k181</td>\n",
       "      <td>63 16 62</td>\n",
       "      <td>2</td>\n",
       "      <td>13</td>\n",
       "      <td>0</td>\n",
       "      <td>1991-7308-k181-s351</td>\n",
       "      <td>1990-12-31</td>\n",
       "      <td>51</td>\n",
       "      <td>51.0</td>\n",
       "      <td>0.0</td>\n",
       "    </tr>\n",
       "    <tr>\n",
       "      <td>1</td>\n",
       "      <td>1991-7308</td>\n",
       "      <td>s351</td>\n",
       "      <td>64 76(6)</td>\n",
       "      <td>2</td>\n",
       "      <td>13</td>\n",
       "      <td>1</td>\n",
       "      <td>1991-7308-s351-c243</td>\n",
       "      <td>1990-12-31</td>\n",
       "      <td>42</td>\n",
       "      <td>42.0</td>\n",
       "      <td>0.0</td>\n",
       "    </tr>\n",
       "    <tr>\n",
       "      <td>2</td>\n",
       "      <td>1991-7308</td>\n",
       "      <td>k181</td>\n",
       "      <td>75 64</td>\n",
       "      <td>2</td>\n",
       "      <td>13</td>\n",
       "      <td>0</td>\n",
       "      <td>1991-7308-k181-l206</td>\n",
       "      <td>1990-12-31</td>\n",
       "      <td>51</td>\n",
       "      <td>51.0</td>\n",
       "      <td>0.0</td>\n",
       "    </tr>\n",
       "    <tr>\n",
       "      <td>3</td>\n",
       "      <td>1991-7308</td>\n",
       "      <td>c243</td>\n",
       "      <td>76(3) 63</td>\n",
       "      <td>2</td>\n",
       "      <td>13</td>\n",
       "      <td>1</td>\n",
       "      <td>1991-7308-c243-s367</td>\n",
       "      <td>1990-12-31</td>\n",
       "      <td>25</td>\n",
       "      <td>25.0</td>\n",
       "      <td>0.0</td>\n",
       "    </tr>\n",
       "    <tr>\n",
       "      <td>4</td>\n",
       "      <td>1991-7308</td>\n",
       "      <td>s351</td>\n",
       "      <td>36 63 63</td>\n",
       "      <td>2</td>\n",
       "      <td>15</td>\n",
       "      <td>0</td>\n",
       "      <td>1991-7308-s351-a031</td>\n",
       "      <td>1990-12-31</td>\n",
       "      <td>42</td>\n",
       "      <td>42.0</td>\n",
       "      <td>0.0</td>\n",
       "    </tr>\n",
       "  </tbody>\n",
       "</table>\n",
       "</div>"
      ],
      "text/plain": [
       "  tourney_year_id winner_player_id match_score_tiebreaks winner_sets_won  \\\n",
       "0       1991-7308             k181              63 16 62               2   \n",
       "1       1991-7308             s351              64 76(6)               2   \n",
       "2       1991-7308             k181                 75 64               2   \n",
       "3       1991-7308             c243              76(3) 63               2   \n",
       "4       1991-7308             s351              36 63 63               2   \n",
       "\n",
       "  winner_games_won winner_tiebreaks_won             match_id  BeginWeek  \\\n",
       "0               13                    0  1991-7308-k181-s351 1990-12-31   \n",
       "1               13                    1  1991-7308-s351-c243 1990-12-31   \n",
       "2               13                    0  1991-7308-k181-l206 1990-12-31   \n",
       "3               13                    1  1991-7308-c243-s367 1990-12-31   \n",
       "4               15                    0  1991-7308-s351-a031 1990-12-31   \n",
       "\n",
       "  winner_rank_text  winner_rank_number  winner_ranking_points  \n",
       "0               51                51.0                    0.0  \n",
       "1               42                42.0                    0.0  \n",
       "2               51                51.0                    0.0  \n",
       "3               25                25.0                    0.0  \n",
       "4               42                42.0                    0.0  "
      ]
     },
     "execution_count": 31,
     "metadata": {},
     "output_type": "execute_result"
    }
   ],
   "source": [
    "winner1.head()"
   ]
  },
  {
   "cell_type": "code",
   "execution_count": 32,
   "metadata": {},
   "outputs": [],
   "source": [
    "# Drop empty rows in winner1/loser1 where rankings are missing.\n",
    "nan_rows_winner1 = winner1[ (winner1['winner_rank_text'].isnull() == True) ].index\n",
    "winner1.drop(nan_rows_winner1, inplace=True)\n",
    "\n",
    "nan_rows_loser1 = loser1[ (loser1['loser_rank_text'].isnull() == True) ].index\n",
    "loser1.drop(nan_rows_loser1, inplace=True)"
   ]
  },
  {
   "cell_type": "code",
   "execution_count": 33,
   "metadata": {},
   "outputs": [
    {
     "data": {
      "text/plain": [
       "tourney_year_id          0\n",
       "winner_player_id         0\n",
       "match_score_tiebreaks    0\n",
       "winner_sets_won          0\n",
       "winner_games_won         0\n",
       "winner_tiebreaks_won     0\n",
       "match_id                 0\n",
       "BeginWeek                0\n",
       "winner_rank_text         0\n",
       "winner_rank_number       0\n",
       "winner_ranking_points    0\n",
       "dtype: int64"
      ]
     },
     "execution_count": 33,
     "metadata": {},
     "output_type": "execute_result"
    }
   ],
   "source": [
    "winner1.isnull().sum()"
   ]
  },
  {
   "cell_type": "code",
   "execution_count": 34,
   "metadata": {},
   "outputs": [
    {
     "data": {
      "text/plain": [
       "tourney_year_id          0\n",
       "loser_player_id          0\n",
       "match_score_tiebreaks    0\n",
       "loser_sets_won           0\n",
       "loser_games_won          0\n",
       "loser_tiebreaks_won      0\n",
       "match_id                 0\n",
       "BeginWeek                0\n",
       "loser_rank_text          0\n",
       "loser_rank_number        0\n",
       "loser_ranking_points     0\n",
       "dtype: int64"
      ]
     },
     "execution_count": 34,
     "metadata": {},
     "output_type": "execute_result"
    }
   ],
   "source": [
    "loser1.isnull().sum()"
   ]
  },
  {
   "cell_type": "markdown",
   "metadata": {},
   "source": [
    "### Match Statistics Dataframe"
   ]
  },
  {
   "cell_type": "code",
   "execution_count": 35,
   "metadata": {
    "scrolled": true
   },
   "outputs": [],
   "source": [
    "matchstats = pd.read_csv('data/match_stats_1991-2016_unindexed.csv', header=None)\n",
    "matchstatscolumns = ['tourney_order','match_id','match_stats_url_suffix','match_time','match_duration','winner_aces',\n",
    "                     'winner_double_faults','winner_first_serves_in','winner_first_serves_total','winner_first_serve_points_won',\n",
    "                     'winner_first_serve_points_total','winner_second_serve_points_won','winner_second_serve_points_total',\n",
    "                     'winner_break_points_saved','winner_break_points_serve_total','winner_service_points_won',\n",
    "                     'winner_service_points_total','winner_first_serve_return_won','winner_first_serve_return_total',\n",
    "                     'winner_second_serve_return_won','winner_second_serve_return_total','winner_break_points_converted',\n",
    "                     'winner_break_points_return_total','winner_service_games_played','winner_return_games_played',\n",
    "                     'winner_return_points_won','winner_return_points_total','winner_total_points_won','winner_total_points_total',\n",
    "                     'loser_aces','loser_double_faults','loser_first_serves_in','loser_first_serves_total',\n",
    "                     'loser_first_serve_points_won','loser_first_serve_points_total','loser_second_serve_points_won',\n",
    "                     'loser_second_serve_points_total','loser_break_points_saved','loser_break_points_serve_total',\n",
    "                     'loser_service_points_won','loser_service_points_total','loser_first_serve_return_won',\n",
    "                     'loser_first_serve_return_total','loser_second_serve_return_won','loser_second_serve_return_total',\n",
    "                     'loser_break_points_converted','loser_break_points_return_total','loser_service_games_played',\n",
    "                     'loser_return_games_played','loser_return_points_won','loser_return_points_total','loser_total_points_won',\n",
    "                     'loser_total_points_total']\n",
    "matchstats.columns = matchstatscolumns\n",
    "# matchstats.head()"
   ]
  },
  {
   "cell_type": "code",
   "execution_count": 36,
   "metadata": {},
   "outputs": [],
   "source": [
    "# Drop empty rows in matchstats.\n",
    "nan_rows_match_time = matchstats[ (matchstats['match_time'].isnull() == True) ].index\n",
    "matchstats.drop(nan_rows_match_time, inplace=True)"
   ]
  },
  {
   "cell_type": "code",
   "execution_count": 37,
   "metadata": {},
   "outputs": [],
   "source": [
    "# Drop matches(rows) where there were either no total points, or no service points by both the winner and loser.\n",
    "zero_points = matchstats[ (matchstats['winner_total_points_total'] == 0) ].index\n",
    "matchstats.drop(zero_points, inplace=True)\n",
    "zero_wservice_points = matchstats[ (matchstats['winner_service_points_total'] == 0) ].index\n",
    "matchstats.drop(zero_wservice_points, inplace=True)\n",
    "zero_lservice_points = matchstats[ (matchstats['loser_service_points_total'] == 0) ].index\n",
    "matchstats.drop(zero_lservice_points, inplace=True)"
   ]
  },
  {
   "cell_type": "code",
   "execution_count": 38,
   "metadata": {},
   "outputs": [],
   "source": [
    "# Drop matches(rows) where there were fewer than 12 total games played (incomplete match).\n",
    "not_enough_winner_serve = matchstats[ (matchstats['winner_service_games_played'] < 6) ].index\n",
    "matchstats.drop(not_enough_winner_serve, inplace=True)\n",
    "not_enough_loser_serve = matchstats[ (matchstats['loser_service_games_played'] < 6) ].index\n",
    "matchstats.drop(not_enough_loser_serve, inplace=True)\n",
    "not_enough_winner_return = matchstats[ (matchstats['winner_return_games_played'] < 6) ].index\n",
    "matchstats.drop(not_enough_winner_return, inplace=True)\n",
    "not_enough_loser_return = matchstats[ (matchstats['loser_return_games_played'] < 6) ].index\n",
    "matchstats.drop(not_enough_loser_return, inplace=True)"
   ]
  },
  {
   "cell_type": "code",
   "execution_count": 39,
   "metadata": {},
   "outputs": [],
   "source": [
    "# Drop rows with matches lasting longer than 6 hours\n",
    "match_too_long = matchstats[ (matchstats['match_duration'] > 360) ].index\n",
    "matchstats.drop(match_too_long, inplace=True)"
   ]
  },
  {
   "cell_type": "code",
   "execution_count": 40,
   "metadata": {},
   "outputs": [],
   "source": [
    "# Drop unnecessary columns in matchstats.\n",
    "matchstats.drop([\"tourney_order\",\"match_stats_url_suffix\"], inplace=True, axis=1)"
   ]
  },
  {
   "cell_type": "code",
   "execution_count": 41,
   "metadata": {},
   "outputs": [],
   "source": [
    "# matchstats.isnull().sum()"
   ]
  },
  {
   "cell_type": "markdown",
   "metadata": {},
   "source": [
    "### Bring in rankings data for winners1 and losers1 dataframes into the matchstats dataframe."
   ]
  },
  {
   "cell_type": "code",
   "execution_count": 42,
   "metadata": {},
   "outputs": [],
   "source": [
    "matchstats1 = pd.merge(matchstats,winner1,on=[\"match_id\"], how=\"inner\")"
   ]
  },
  {
   "cell_type": "code",
   "execution_count": 43,
   "metadata": {},
   "outputs": [],
   "source": [
    "matchstats1 = pd.merge(matchstats1,loser1,on=[\"match_id\",\"BeginWeek\",\"tourney_year_id\",\"match_score_tiebreaks\"], how=\"inner\")"
   ]
  },
  {
   "cell_type": "code",
   "execution_count": 44,
   "metadata": {},
   "outputs": [],
   "source": [
    "# Drop redundant and/or irrelevant columns in matchstats1.\n",
    "matchstats1.drop([\"winner_rank_text\",\"loser_rank_text\"], inplace=True, axis=1)"
   ]
  },
  {
   "cell_type": "code",
   "execution_count": 45,
   "metadata": {},
   "outputs": [],
   "source": [
    "# Correct for player ranking differences over 300\n",
    "# Player rankings outside of top 300 are generally not very relevant since the rankings points differences are very small.\n",
    "matchstats1.loc[(matchstats1.winner_rank_number > 300),'winner_rank_number'] = 300\n",
    "matchstats1.loc[(matchstats1.loser_rank_number > 300),'loser_rank_number'] = 300"
   ]
  },
  {
   "cell_type": "code",
   "execution_count": 46,
   "metadata": {},
   "outputs": [],
   "source": [
    "matchstats1.loc[(matchstats1.winner_break_points_converted > matchstats1.winner_break_points_return_total),\n",
    "                'winner_break_points_converted'] = matchstats1.loc[matchstats1.winner_break_points_return_total < matchstats1.winner_break_points_converted]"
   ]
  },
  {
   "cell_type": "markdown",
   "metadata": {},
   "source": [
    "### Create EDA Variables"
   ]
  },
  {
   "cell_type": "code",
   "execution_count": 47,
   "metadata": {},
   "outputs": [],
   "source": [
    "# Create Ace Percent variable, which is the number of aces in a match divided by the total number of serves.\n",
    "matchstats1 = matchstats1.assign(winner_ace_pct =lambda matchstats1: (matchstats1['winner_aces'] /\n",
    "                                                                      (matchstats1['winner_first_serve_points_total'] + matchstats1['winner_second_serve_points_total']) * 100))\n",
    "matchstats1 = matchstats1.assign(loser_ace_pct =lambda matchstats1: (matchstats1['loser_aces'] / \n",
    "                                                                     (matchstats1['loser_first_serve_points_total'] + matchstats1['loser_second_serve_points_total']) * 100))"
   ]
  },
  {
   "cell_type": "code",
   "execution_count": 48,
   "metadata": {},
   "outputs": [],
   "source": [
    "# Create Double Fault Percent variable, which is the number of double faults in a match divided by the total number of serves.\n",
    "matchstats1 = matchstats1.assign(winner_df_pct =lambda matchstats1: (matchstats1['winner_double_faults'] /\n",
    "                                                                    (matchstats1['winner_first_serve_points_total'] + matchstats1['winner_second_serve_points_total']) * 100))\n",
    "matchstats1 = matchstats1.assign(loser_df_pct =lambda matchstats1: (matchstats1['loser_double_faults'] / \n",
    "                                                                    (matchstats1['loser_first_serve_points_total'] + matchstats1['loser_second_serve_points_total']) * 100))"
   ]
  },
  {
   "cell_type": "code",
   "execution_count": 49,
   "metadata": {},
   "outputs": [],
   "source": [
    "matchstats1 = matchstats1.assign(winner_firstsrv_in_pct =lambda matchstats1: (matchstats1['winner_first_serves_in'] / matchstats1['winner_first_serves_total']) * 100)\n",
    "matchstats1 = matchstats1.assign(loser_firstsrv_in_pct =lambda matchstats1: (matchstats1['loser_first_serves_in'] / matchstats1['loser_first_serves_total']) * 100)"
   ]
  },
  {
   "cell_type": "code",
   "execution_count": 50,
   "metadata": {},
   "outputs": [],
   "source": [
    "matchstats1 = matchstats1.assign(winner_firstsrv_won_pct =lambda matchstats1: (matchstats1['winner_first_serve_points_won'] / matchstats1['winner_first_serve_points_total']) * 100)\n",
    "matchstats1 = matchstats1.assign(loser_firstsrv_won_pct =lambda matchstats1: (matchstats1['loser_first_serve_points_won'] / matchstats1['loser_first_serve_points_total']) * 100)"
   ]
  },
  {
   "cell_type": "code",
   "execution_count": 51,
   "metadata": {},
   "outputs": [],
   "source": [
    "matchstats1 = matchstats1.assign(winner_secondsrv_won_pct =lambda matchstats1: (matchstats1['winner_second_serve_points_won'] / matchstats1['winner_second_serve_points_total']) * 100)\n",
    "matchstats1 = matchstats1.assign(loser_secondsrv_won_pct =lambda matchstats1: (matchstats1['loser_second_serve_points_won'] / matchstats1['loser_second_serve_points_total']) * 100)"
   ]
  },
  {
   "cell_type": "code",
   "execution_count": 52,
   "metadata": {},
   "outputs": [],
   "source": [
    "matchstats1 = matchstats1.assign(winner_srv_pts_pct =lambda matchstats1: (matchstats1['winner_service_points_won'] / matchstats1['winner_service_points_total']) * 100)\n",
    "matchstats1 = matchstats1.assign(loser_srv_pts_pct =lambda matchstats1: (matchstats1['loser_service_points_won'] / matchstats1['loser_service_points_total']) * 100)"
   ]
  },
  {
   "cell_type": "code",
   "execution_count": 53,
   "metadata": {},
   "outputs": [],
   "source": [
    "matchstats1 = matchstats1.assign(winner_rtn_pts_pct =lambda matchstats1: (matchstats1['winner_return_points_won'] / matchstats1['winner_return_points_total']) * 100)\n",
    "matchstats1 = matchstats1.assign(loser_rtn_pts_pct =lambda matchstats1: (matchstats1['loser_return_points_won'] / matchstats1['loser_return_points_total']) * 100)"
   ]
  },
  {
   "cell_type": "code",
   "execution_count": 54,
   "metadata": {},
   "outputs": [],
   "source": [
    "matchstats1 = matchstats1.assign(winner_brk_pts_pct =lambda matchstats1: (matchstats1['winner_break_points_converted'] / matchstats1['winner_break_points_return_total']) * 100)\n",
    "matchstats1 = matchstats1.assign(loser_brk_pts_pct =lambda matchstats1: (matchstats1['loser_break_points_converted'] / matchstats1['loser_break_points_return_total']) * 100)"
   ]
  },
  {
   "cell_type": "code",
   "execution_count": 55,
   "metadata": {},
   "outputs": [],
   "source": [
    "matchstats1 = matchstats1.assign(winner_points_won_pct =lambda matchstats1: (matchstats1['winner_total_points_won'] / matchstats1['winner_total_points_total']) * 100)\n",
    "matchstats1 = matchstats1.assign(loser_points_won_pct =lambda matchstats1: (100 - matchstats1['winner_points_won_pct']))"
   ]
  },
  {
   "cell_type": "code",
   "execution_count": 56,
   "metadata": {},
   "outputs": [],
   "source": [
    "# Fill missing values\n",
    "matchstats1['loser_rtn_pts_pct'].fillna(0, inplace=True)\n",
    "matchstats1['winner_brk_pts_pct'].fillna(0, inplace=True)\n",
    "matchstats1['loser_brk_pts_pct'].fillna(0, inplace=True)"
   ]
  },
  {
   "cell_type": "code",
   "execution_count": 57,
   "metadata": {},
   "outputs": [],
   "source": [
    "# Correct for break point percentage errors\n",
    "matchstats1.loc[(matchstats1.winner_brk_pts_pct > 100),'winner_brk_pts_pct'] = 100\n",
    "matchstats1.loc[(matchstats1.loser_brk_pts_pct > 100),'loser_brk_pts_pct'] = 100"
   ]
  },
  {
   "cell_type": "code",
   "execution_count": 58,
   "metadata": {},
   "outputs": [
    {
     "data": {
      "text/plain": [
       "match_id                 0\n",
       "match_time               0\n",
       "match_duration           0\n",
       "winner_aces              0\n",
       "winner_double_faults     0\n",
       "                        ..\n",
       "loser_rtn_pts_pct        0\n",
       "winner_brk_pts_pct       0\n",
       "loser_brk_pts_pct        0\n",
       "winner_points_won_pct    0\n",
       "loser_points_won_pct     0\n",
       "Length: 84, dtype: int64"
      ]
     },
     "execution_count": 58,
     "metadata": {},
     "output_type": "execute_result"
    }
   ],
   "source": [
    "nan_rows_loser_points_won_pct = matchstats1[ (matchstats1['loser_points_won_pct'].isnull() == True) ].index\n",
    "matchstats1.drop(nan_rows_loser_points_won_pct, inplace=True)\n",
    "matchstats1.isnull().sum()"
   ]
  },
  {
   "cell_type": "code",
   "execution_count": 59,
   "metadata": {},
   "outputs": [],
   "source": [
    "# Create columns for differences in key categories between winner and loser.\n",
    "matchstats1 = matchstats1.assign(ace_dif =lambda matchstats1: (matchstats1['winner_ace_pct'] - matchstats1['loser_ace_pct']))\n",
    "matchstats1 = matchstats1.assign(df_dif =lambda matchstats1: (matchstats1['winner_df_pct'] - matchstats1['loser_df_pct']))\n",
    "matchstats1 = matchstats1.assign(firstsrv_in_dif =lambda matchstats1: (matchstats1['winner_firstsrv_in_pct'] - matchstats1['loser_firstsrv_in_pct']))\n",
    "matchstats1 = matchstats1.assign(firstsrv_won_dif =lambda matchstats1: (matchstats1['winner_firstsrv_won_pct'] - matchstats1['loser_firstsrv_won_pct']))\n",
    "matchstats1 = matchstats1.assign(secondsrv_won_dif =lambda matchstats1: (matchstats1['winner_secondsrv_won_pct'] - matchstats1['loser_secondsrv_won_pct']))\n",
    "matchstats1 = matchstats1.assign(srv_pts_dif =lambda matchstats1: (matchstats1['winner_srv_pts_pct'] - matchstats1['loser_srv_pts_pct']))\n",
    "matchstats1 = matchstats1.assign(rtn_pts_dif =lambda matchstats1: (matchstats1['winner_rtn_pts_pct'] - matchstats1['loser_rtn_pts_pct']))\n",
    "matchstats1 = matchstats1.assign(brk_pts_dif =lambda matchstats1: (matchstats1['winner_brk_pts_pct'] - matchstats1['loser_brk_pts_pct']))\n",
    "matchstats1 = matchstats1.assign(total_points_pct_dif =lambda matchstats1: (matchstats1['winner_points_won_pct'] - matchstats1['loser_points_won_pct']))\n",
    "matchstats1 = matchstats1.assign(rank_dif =lambda matchstats1: (matchstats1['loser_rank_number'] - matchstats1['winner_rank_number']))"
   ]
  },
  {
   "cell_type": "code",
   "execution_count": 60,
   "metadata": {},
   "outputs": [],
   "source": [
    "# Correct for short match durations errors\n",
    "# short = matchstats1.loc[(matchstats1.match_duration < 30)]\n",
    "# print(short)\n",
    "matchstats1.loc[(matchstats1.match_duration < 60),'match_duration'] = int(np.mean(matchstats1['match_duration']))"
   ]
  },
  {
   "cell_type": "code",
   "execution_count": 61,
   "metadata": {},
   "outputs": [],
   "source": [
    "# matchstats1[['ace_dif','df_dif','srv_pts_dif','rtn_pts_dif','brk_pts_dif','total_points_pct_dif','rank_dif']].describe().T"
   ]
  },
  {
   "cell_type": "markdown",
   "metadata": {},
   "source": [
    "## Miscellaneous Cleanup"
   ]
  },
  {
   "cell_type": "code",
   "execution_count": 62,
   "metadata": {},
   "outputs": [],
   "source": [
    "# Normalize Dataframe Dates and Sort\n",
    "matchstats1['Date'] = matchstats1['BeginWeek'].dt.normalize()\n",
    "matchstats1['year'] = pd.to_datetime(matchstats1['BeginWeek']).dt.year\n",
    "matchstats1['month'] = pd.to_datetime(matchstats1['BeginWeek']).dt.month\n",
    "matchstats1['day'] = pd.to_datetime(matchstats1['BeginWeek']).dt.day\n",
    "matchstats1.sort_values(by='BeginWeek', inplace=True)\n",
    "matchstats1.drop([\"match_time\",\"BeginWeek\"], inplace=True, axis=1)"
   ]
  },
  {
   "cell_type": "code",
   "execution_count": 63,
   "metadata": {},
   "outputs": [],
   "source": [
    "# Check for errors in break points converted data.\n",
    "matchstats1.loc[(matchstats1.winner_break_points_converted > matchstats1.winner_break_points_return_total),\n",
    "                'winner_break_points_converted'] = matchstats1.winner_break_points_return_total"
   ]
  },
  {
   "cell_type": "code",
   "execution_count": 64,
   "metadata": {},
   "outputs": [],
   "source": [
    "matchstats1 = matchstats1.sort_values(['Date','match_id'], ascending=True).reset_index(drop=True)"
   ]
  },
  {
   "cell_type": "code",
   "execution_count": 65,
   "metadata": {},
   "outputs": [],
   "source": [
    "# df2.loc[startrow:endrow, startcolumn:endcolumn] # matchstats1.iloc[1200:1220,0:10]"
   ]
  },
  {
   "cell_type": "markdown",
   "metadata": {},
   "source": [
    "### Create Result Dataframe for Inferential Statistics"
   ]
  },
  {
   "cell_type": "code",
   "execution_count": 66,
   "metadata": {},
   "outputs": [],
   "source": [
    "winner_columns = ['match_id','match_duration','rank_dif','Date','year','month','day','winner_aces','winner_double_faults','winner_first_serves_in','winner_first_serves_total',\n",
    "                  'winner_first_serve_points_won','winner_first_serve_points_total','winner_second_serve_points_won','winner_second_serve_points_total','winner_break_points_saved',\n",
    "                  'winner_break_points_serve_total','winner_service_points_won','winner_service_points_total','winner_first_serve_return_won','winner_first_serve_return_total',\n",
    "                  'winner_second_serve_return_won','winner_second_serve_return_total','winner_break_points_converted','winner_break_points_return_total','winner_service_games_played',\n",
    "                  'winner_return_games_played','winner_return_points_won','winner_return_points_total','winner_total_points_won','winner_total_points_total',\n",
    "                  'winner_sets_won','winner_games_won','winner_tiebreaks_won','winner_rank_number','winner_ranking_points','winner_ace_pct','winner_df_pct','winner_firstsrv_in_pct',\n",
    "                  'winner_firstsrv_won_pct','winner_secondsrv_won_pct','winner_srv_pts_pct','winner_rtn_pts_pct','winner_brk_pts_pct','winner_points_won_pct']\n",
    "\n",
    "winner_df = pd.DataFrame(matchstats1[winner_columns])\n",
    "\n",
    "winner_df['win'] = 1\n",
    "\n",
    "columns = ['match_id','match_duration','rank_dif','date','year','month','day','aces','double_faults','first_serves_in','first_serves_total',\n",
    "           'first_serve_points_won','first_serve_points_total','second_serve_points_won','second_serve_points_total','break_points_saved',\n",
    "           'break_points_serve_total','service_points_won','service_points_total','first_serve_return_won','first_serve_return_total',\n",
    "           'second_serve_return_won','second_serve_return_total','break_points_converted','break_points_return_total','service_games_played',\n",
    "           'return_games_played','return_points_won','return_points_total','total_points_won','total_points_total',\n",
    "           'sets_won','games_won','tiebreaks_won','rank_number','ranking_points','ace_pct','df_pct','firstsrv_in_pct',\n",
    "           'firstsrv_won_pct','secondsrv_won_pct','srv_pts_pct','rtn_pts_pct','brk_pts_pct','points_won_pct','win']\n",
    "\n",
    "winner_df.columns = columns"
   ]
  },
  {
   "cell_type": "code",
   "execution_count": 67,
   "metadata": {},
   "outputs": [],
   "source": [
    "loser_columns = ['match_id','match_duration','rank_dif','Date','year','month','day','loser_aces','loser_double_faults','loser_first_serves_in','loser_first_serves_total',\n",
    "                 'loser_first_serve_points_won','loser_first_serve_points_total','loser_second_serve_points_won','loser_second_serve_points_total','loser_break_points_saved',\n",
    "                 'loser_break_points_serve_total','loser_service_points_won','loser_service_points_total','loser_first_serve_return_won','loser_first_serve_return_total',\n",
    "                 'loser_second_serve_return_won','loser_second_serve_return_total','loser_break_points_converted','loser_break_points_return_total','loser_service_games_played',\n",
    "                 'loser_return_games_played','loser_return_points_won','loser_return_points_total','loser_total_points_won','loser_total_points_total',\n",
    "                 'loser_sets_won','loser_games_won','loser_tiebreaks_won','loser_rank_number','loser_ranking_points','loser_ace_pct','loser_df_pct','loser_firstsrv_in_pct',\n",
    "                 'loser_firstsrv_won_pct','loser_secondsrv_won_pct','loser_srv_pts_pct','loser_rtn_pts_pct','loser_brk_pts_pct','loser_points_won_pct']\n",
    "\n",
    "loser_df = pd.DataFrame(matchstats1[loser_columns])\n",
    "\n",
    "loser_df['win'] = 0\n",
    "loser_df['rank_dif'] = -loser_df['rank_dif']\n",
    "\n",
    "columns = ['match_id','match_duration','rank_dif','date','year','month','day','aces','double_faults','first_serves_in','first_serves_total',\n",
    "           'first_serve_points_won','first_serve_points_total','second_serve_points_won','second_serve_points_total','break_points_saved',\n",
    "           'break_points_serve_total','service_points_won','service_points_total','first_serve_return_won','first_serve_return_total',\n",
    "           'second_serve_return_won','second_serve_return_total','break_points_converted','break_points_return_total','service_games_played',\n",
    "           'return_games_played','return_points_won','return_points_total','total_points_won','total_points_total',\n",
    "           'sets_won','games_won','tiebreaks_won','rank_number','ranking_points','ace_pct','df_pct','firstsrv_in_pct',\n",
    "           'firstsrv_won_pct','secondsrv_won_pct','srv_pts_pct','rtn_pts_pct','brk_pts_pct','points_won_pct','win']\n",
    "\n",
    "loser_df.columns = columns"
   ]
  },
  {
   "cell_type": "code",
   "execution_count": 68,
   "metadata": {},
   "outputs": [
    {
     "data": {
      "text/html": [
       "<div>\n",
       "<style scoped>\n",
       "    .dataframe tbody tr th:only-of-type {\n",
       "        vertical-align: middle;\n",
       "    }\n",
       "\n",
       "    .dataframe tbody tr th {\n",
       "        vertical-align: top;\n",
       "    }\n",
       "\n",
       "    .dataframe thead th {\n",
       "        text-align: right;\n",
       "    }\n",
       "</style>\n",
       "<table border=\"1\" class=\"dataframe\">\n",
       "  <thead>\n",
       "    <tr style=\"text-align: right;\">\n",
       "      <th></th>\n",
       "      <th>match_id</th>\n",
       "      <th>match_duration</th>\n",
       "      <th>rank_dif</th>\n",
       "      <th>date</th>\n",
       "      <th>year</th>\n",
       "      <th>month</th>\n",
       "      <th>day</th>\n",
       "      <th>aces</th>\n",
       "      <th>double_faults</th>\n",
       "      <th>first_serves_in</th>\n",
       "      <th>...</th>\n",
       "      <th>ace_pct</th>\n",
       "      <th>df_pct</th>\n",
       "      <th>firstsrv_in_pct</th>\n",
       "      <th>firstsrv_won_pct</th>\n",
       "      <th>secondsrv_won_pct</th>\n",
       "      <th>srv_pts_pct</th>\n",
       "      <th>rtn_pts_pct</th>\n",
       "      <th>brk_pts_pct</th>\n",
       "      <th>points_won_pct</th>\n",
       "      <th>win</th>\n",
       "    </tr>\n",
       "  </thead>\n",
       "  <tbody>\n",
       "    <tr>\n",
       "      <td>0</td>\n",
       "      <td>1991-354-a028-c113</td>\n",
       "      <td>66.0</td>\n",
       "      <td>51.0</td>\n",
       "      <td>1990-12-31</td>\n",
       "      <td>1990</td>\n",
       "      <td>12</td>\n",
       "      <td>31</td>\n",
       "      <td>2.0</td>\n",
       "      <td>1.0</td>\n",
       "      <td>29.0</td>\n",
       "      <td>...</td>\n",
       "      <td>4.166667</td>\n",
       "      <td>2.083333</td>\n",
       "      <td>60.416667</td>\n",
       "      <td>89.655172</td>\n",
       "      <td>63.157895</td>\n",
       "      <td>79.166667</td>\n",
       "      <td>41.071429</td>\n",
       "      <td>25.000000</td>\n",
       "      <td>58.653846</td>\n",
       "      <td>1</td>\n",
       "    </tr>\n",
       "    <tr>\n",
       "      <td>1</td>\n",
       "      <td>1991-354-a028-c113</td>\n",
       "      <td>66.0</td>\n",
       "      <td>-51.0</td>\n",
       "      <td>1990-12-31</td>\n",
       "      <td>1990</td>\n",
       "      <td>12</td>\n",
       "      <td>31</td>\n",
       "      <td>3.0</td>\n",
       "      <td>3.0</td>\n",
       "      <td>42.0</td>\n",
       "      <td>...</td>\n",
       "      <td>5.357143</td>\n",
       "      <td>5.357143</td>\n",
       "      <td>75.000000</td>\n",
       "      <td>64.285714</td>\n",
       "      <td>42.857143</td>\n",
       "      <td>58.928571</td>\n",
       "      <td>20.833333</td>\n",
       "      <td>0.000000</td>\n",
       "      <td>41.346154</td>\n",
       "      <td>0</td>\n",
       "    </tr>\n",
       "    <tr>\n",
       "      <td>2</td>\n",
       "      <td>1991-354-b040-c260</td>\n",
       "      <td>147.0</td>\n",
       "      <td>-59.0</td>\n",
       "      <td>1990-12-31</td>\n",
       "      <td>1990</td>\n",
       "      <td>12</td>\n",
       "      <td>31</td>\n",
       "      <td>3.0</td>\n",
       "      <td>2.0</td>\n",
       "      <td>56.0</td>\n",
       "      <td>...</td>\n",
       "      <td>3.191489</td>\n",
       "      <td>2.127660</td>\n",
       "      <td>59.574468</td>\n",
       "      <td>66.071429</td>\n",
       "      <td>55.263158</td>\n",
       "      <td>61.702128</td>\n",
       "      <td>39.622642</td>\n",
       "      <td>20.000000</td>\n",
       "      <td>50.000000</td>\n",
       "      <td>1</td>\n",
       "    </tr>\n",
       "    <tr>\n",
       "      <td>3</td>\n",
       "      <td>1991-354-b040-c260</td>\n",
       "      <td>147.0</td>\n",
       "      <td>59.0</td>\n",
       "      <td>1990-12-31</td>\n",
       "      <td>1990</td>\n",
       "      <td>12</td>\n",
       "      <td>31</td>\n",
       "      <td>4.0</td>\n",
       "      <td>1.0</td>\n",
       "      <td>72.0</td>\n",
       "      <td>...</td>\n",
       "      <td>3.773585</td>\n",
       "      <td>0.943396</td>\n",
       "      <td>67.924528</td>\n",
       "      <td>58.333333</td>\n",
       "      <td>64.705882</td>\n",
       "      <td>60.377358</td>\n",
       "      <td>38.297872</td>\n",
       "      <td>50.000000</td>\n",
       "      <td>50.000000</td>\n",
       "      <td>0</td>\n",
       "    </tr>\n",
       "    <tr>\n",
       "      <td>4</td>\n",
       "      <td>1991-354-b040-m048</td>\n",
       "      <td>68.0</td>\n",
       "      <td>40.0</td>\n",
       "      <td>1990-12-31</td>\n",
       "      <td>1990</td>\n",
       "      <td>12</td>\n",
       "      <td>31</td>\n",
       "      <td>2.0</td>\n",
       "      <td>1.0</td>\n",
       "      <td>37.0</td>\n",
       "      <td>...</td>\n",
       "      <td>4.081633</td>\n",
       "      <td>2.040816</td>\n",
       "      <td>75.510204</td>\n",
       "      <td>67.567568</td>\n",
       "      <td>50.000000</td>\n",
       "      <td>63.265306</td>\n",
       "      <td>54.545455</td>\n",
       "      <td>54.545455</td>\n",
       "      <td>58.653846</td>\n",
       "      <td>1</td>\n",
       "    </tr>\n",
       "  </tbody>\n",
       "</table>\n",
       "<p>5 rows × 46 columns</p>\n",
       "</div>"
      ],
      "text/plain": [
       "             match_id  match_duration  rank_dif       date  year  month  day  \\\n",
       "0  1991-354-a028-c113            66.0      51.0 1990-12-31  1990     12   31   \n",
       "1  1991-354-a028-c113            66.0     -51.0 1990-12-31  1990     12   31   \n",
       "2  1991-354-b040-c260           147.0     -59.0 1990-12-31  1990     12   31   \n",
       "3  1991-354-b040-c260           147.0      59.0 1990-12-31  1990     12   31   \n",
       "4  1991-354-b040-m048            68.0      40.0 1990-12-31  1990     12   31   \n",
       "\n",
       "   aces  double_faults  first_serves_in  ...   ace_pct    df_pct  \\\n",
       "0   2.0            1.0             29.0  ...  4.166667  2.083333   \n",
       "1   3.0            3.0             42.0  ...  5.357143  5.357143   \n",
       "2   3.0            2.0             56.0  ...  3.191489  2.127660   \n",
       "3   4.0            1.0             72.0  ...  3.773585  0.943396   \n",
       "4   2.0            1.0             37.0  ...  4.081633  2.040816   \n",
       "\n",
       "   firstsrv_in_pct  firstsrv_won_pct  secondsrv_won_pct  srv_pts_pct  \\\n",
       "0        60.416667         89.655172          63.157895    79.166667   \n",
       "1        75.000000         64.285714          42.857143    58.928571   \n",
       "2        59.574468         66.071429          55.263158    61.702128   \n",
       "3        67.924528         58.333333          64.705882    60.377358   \n",
       "4        75.510204         67.567568          50.000000    63.265306   \n",
       "\n",
       "   rtn_pts_pct  brk_pts_pct  points_won_pct  win  \n",
       "0    41.071429    25.000000       58.653846    1  \n",
       "1    20.833333     0.000000       41.346154    0  \n",
       "2    39.622642    20.000000       50.000000    1  \n",
       "3    38.297872    50.000000       50.000000    0  \n",
       "4    54.545455    54.545455       58.653846    1  \n",
       "\n",
       "[5 rows x 46 columns]"
      ]
     },
     "execution_count": 68,
     "metadata": {},
     "output_type": "execute_result"
    }
   ],
   "source": [
    "results = pd.concat([winner_df,loser_df], sort=False)\n",
    "results = results.sort_values(['date','match_id'], ascending=True).reset_index(drop=True)\n",
    "results.head()"
   ]
  },
  {
   "cell_type": "code",
   "execution_count": 69,
   "metadata": {},
   "outputs": [
    {
     "data": {
      "text/html": [
       "<div>\n",
       "<style scoped>\n",
       "    .dataframe tbody tr th:only-of-type {\n",
       "        vertical-align: middle;\n",
       "    }\n",
       "\n",
       "    .dataframe tbody tr th {\n",
       "        vertical-align: top;\n",
       "    }\n",
       "\n",
       "    .dataframe thead th {\n",
       "        text-align: right;\n",
       "    }\n",
       "</style>\n",
       "<table border=\"1\" class=\"dataframe\">\n",
       "  <thead>\n",
       "    <tr style=\"text-align: right;\">\n",
       "      <th></th>\n",
       "      <th>count</th>\n",
       "      <th>mean</th>\n",
       "      <th>std</th>\n",
       "      <th>min</th>\n",
       "      <th>25%</th>\n",
       "      <th>50%</th>\n",
       "      <th>75%</th>\n",
       "      <th>max</th>\n",
       "    </tr>\n",
       "  </thead>\n",
       "  <tbody>\n",
       "    <tr>\n",
       "      <td>match_duration</td>\n",
       "      <td>88206.0</td>\n",
       "      <td>104.614777</td>\n",
       "      <td>33.616448</td>\n",
       "      <td>60.000000</td>\n",
       "      <td>80.000000</td>\n",
       "      <td>99.000000</td>\n",
       "      <td>121.000000</td>\n",
       "      <td>353.000000</td>\n",
       "    </tr>\n",
       "    <tr>\n",
       "      <td>winner_aces</td>\n",
       "      <td>88206.0</td>\n",
       "      <td>6.236208</td>\n",
       "      <td>5.080645</td>\n",
       "      <td>0.000000</td>\n",
       "      <td>3.000000</td>\n",
       "      <td>5.000000</td>\n",
       "      <td>9.000000</td>\n",
       "      <td>61.000000</td>\n",
       "    </tr>\n",
       "    <tr>\n",
       "      <td>winner_double_faults</td>\n",
       "      <td>88206.0</td>\n",
       "      <td>2.728306</td>\n",
       "      <td>2.340481</td>\n",
       "      <td>0.000000</td>\n",
       "      <td>1.000000</td>\n",
       "      <td>2.000000</td>\n",
       "      <td>4.000000</td>\n",
       "      <td>23.000000</td>\n",
       "    </tr>\n",
       "    <tr>\n",
       "      <td>winner_first_serves_in</td>\n",
       "      <td>88206.0</td>\n",
       "      <td>45.306260</td>\n",
       "      <td>20.206875</td>\n",
       "      <td>0.000000</td>\n",
       "      <td>32.000000</td>\n",
       "      <td>43.000000</td>\n",
       "      <td>56.000000</td>\n",
       "      <td>194.000000</td>\n",
       "    </tr>\n",
       "    <tr>\n",
       "      <td>winner_first_serves_total</td>\n",
       "      <td>88206.0</td>\n",
       "      <td>77.114323</td>\n",
       "      <td>28.263841</td>\n",
       "      <td>22.000000</td>\n",
       "      <td>56.000000</td>\n",
       "      <td>72.000000</td>\n",
       "      <td>93.000000</td>\n",
       "      <td>258.000000</td>\n",
       "    </tr>\n",
       "    <tr>\n",
       "      <td>...</td>\n",
       "      <td>...</td>\n",
       "      <td>...</td>\n",
       "      <td>...</td>\n",
       "      <td>...</td>\n",
       "      <td>...</td>\n",
       "      <td>...</td>\n",
       "      <td>...</td>\n",
       "      <td>...</td>\n",
       "    </tr>\n",
       "    <tr>\n",
       "      <td>total_points_pct_dif</td>\n",
       "      <td>88206.0</td>\n",
       "      <td>10.935045</td>\n",
       "      <td>8.231343</td>\n",
       "      <td>-39.393939</td>\n",
       "      <td>5.050505</td>\n",
       "      <td>9.638554</td>\n",
       "      <td>15.463918</td>\n",
       "      <td>65.517241</td>\n",
       "    </tr>\n",
       "    <tr>\n",
       "      <td>rank_dif</td>\n",
       "      <td>88206.0</td>\n",
       "      <td>29.128869</td>\n",
       "      <td>87.778525</td>\n",
       "      <td>-298.000000</td>\n",
       "      <td>-18.000000</td>\n",
       "      <td>22.000000</td>\n",
       "      <td>70.000000</td>\n",
       "      <td>299.000000</td>\n",
       "    </tr>\n",
       "    <tr>\n",
       "      <td>year</td>\n",
       "      <td>88206.0</td>\n",
       "      <td>2004.223012</td>\n",
       "      <td>7.684788</td>\n",
       "      <td>1990.000000</td>\n",
       "      <td>1997.000000</td>\n",
       "      <td>2005.000000</td>\n",
       "      <td>2011.000000</td>\n",
       "      <td>2016.000000</td>\n",
       "    </tr>\n",
       "    <tr>\n",
       "      <td>month</td>\n",
       "      <td>88206.0</td>\n",
       "      <td>5.662925</td>\n",
       "      <td>2.985387</td>\n",
       "      <td>1.000000</td>\n",
       "      <td>3.000000</td>\n",
       "      <td>6.000000</td>\n",
       "      <td>8.000000</td>\n",
       "      <td>12.000000</td>\n",
       "    </tr>\n",
       "    <tr>\n",
       "      <td>day</td>\n",
       "      <td>88206.0</td>\n",
       "      <td>16.041573</td>\n",
       "      <td>8.551023</td>\n",
       "      <td>1.000000</td>\n",
       "      <td>9.000000</td>\n",
       "      <td>16.000000</td>\n",
       "      <td>24.000000</td>\n",
       "      <td>31.000000</td>\n",
       "    </tr>\n",
       "  </tbody>\n",
       "</table>\n",
       "<p>84 rows × 8 columns</p>\n",
       "</div>"
      ],
      "text/plain": [
       "                             count         mean        std          min  \\\n",
       "match_duration             88206.0   104.614777  33.616448    60.000000   \n",
       "winner_aces                88206.0     6.236208   5.080645     0.000000   \n",
       "winner_double_faults       88206.0     2.728306   2.340481     0.000000   \n",
       "winner_first_serves_in     88206.0    45.306260  20.206875     0.000000   \n",
       "winner_first_serves_total  88206.0    77.114323  28.263841    22.000000   \n",
       "...                            ...          ...        ...          ...   \n",
       "total_points_pct_dif       88206.0    10.935045   8.231343   -39.393939   \n",
       "rank_dif                   88206.0    29.128869  87.778525  -298.000000   \n",
       "year                       88206.0  2004.223012   7.684788  1990.000000   \n",
       "month                      88206.0     5.662925   2.985387     1.000000   \n",
       "day                        88206.0    16.041573   8.551023     1.000000   \n",
       "\n",
       "                                   25%          50%          75%          max  \n",
       "match_duration               80.000000    99.000000   121.000000   353.000000  \n",
       "winner_aces                   3.000000     5.000000     9.000000    61.000000  \n",
       "winner_double_faults          1.000000     2.000000     4.000000    23.000000  \n",
       "winner_first_serves_in       32.000000    43.000000    56.000000   194.000000  \n",
       "winner_first_serves_total    56.000000    72.000000    93.000000   258.000000  \n",
       "...                                ...          ...          ...          ...  \n",
       "total_points_pct_dif          5.050505     9.638554    15.463918    65.517241  \n",
       "rank_dif                    -18.000000    22.000000    70.000000   299.000000  \n",
       "year                       1997.000000  2005.000000  2011.000000  2016.000000  \n",
       "month                         3.000000     6.000000     8.000000    12.000000  \n",
       "day                           9.000000    16.000000    24.000000    31.000000  \n",
       "\n",
       "[84 rows x 8 columns]"
      ]
     },
     "execution_count": 69,
     "metadata": {},
     "output_type": "execute_result"
    }
   ],
   "source": [
    "matchstats1.describe().T"
   ]
  },
  {
   "cell_type": "code",
   "execution_count": 70,
   "metadata": {},
   "outputs": [
    {
     "data": {
      "text/html": [
       "<div>\n",
       "<style scoped>\n",
       "    .dataframe tbody tr th:only-of-type {\n",
       "        vertical-align: middle;\n",
       "    }\n",
       "\n",
       "    .dataframe tbody tr th {\n",
       "        vertical-align: top;\n",
       "    }\n",
       "\n",
       "    .dataframe thead th {\n",
       "        text-align: right;\n",
       "    }\n",
       "</style>\n",
       "<table border=\"1\" class=\"dataframe\">\n",
       "  <thead>\n",
       "    <tr style=\"text-align: right;\">\n",
       "      <th></th>\n",
       "      <th>match_id</th>\n",
       "      <th>match_duration</th>\n",
       "      <th>winner_aces</th>\n",
       "      <th>winner_double_faults</th>\n",
       "      <th>winner_first_serves_in</th>\n",
       "      <th>winner_first_serves_total</th>\n",
       "      <th>winner_first_serve_points_won</th>\n",
       "      <th>winner_first_serve_points_total</th>\n",
       "      <th>winner_second_serve_points_won</th>\n",
       "      <th>winner_second_serve_points_total</th>\n",
       "      <th>...</th>\n",
       "      <th>secondsrv_won_dif</th>\n",
       "      <th>srv_pts_dif</th>\n",
       "      <th>rtn_pts_dif</th>\n",
       "      <th>brk_pts_dif</th>\n",
       "      <th>total_points_pct_dif</th>\n",
       "      <th>rank_dif</th>\n",
       "      <th>Date</th>\n",
       "      <th>year</th>\n",
       "      <th>month</th>\n",
       "      <th>day</th>\n",
       "    </tr>\n",
       "  </thead>\n",
       "  <tbody>\n",
       "  </tbody>\n",
       "</table>\n",
       "<p>0 rows × 96 columns</p>\n",
       "</div>"
      ],
      "text/plain": [
       "Empty DataFrame\n",
       "Columns: [match_id, match_duration, winner_aces, winner_double_faults, winner_first_serves_in, winner_first_serves_total, winner_first_serve_points_won, winner_first_serve_points_total, winner_second_serve_points_won, winner_second_serve_points_total, winner_break_points_saved, winner_break_points_serve_total, winner_service_points_won, winner_service_points_total, winner_first_serve_return_won, winner_first_serve_return_total, winner_second_serve_return_won, winner_second_serve_return_total, winner_break_points_converted, winner_break_points_return_total, winner_service_games_played, winner_return_games_played, winner_return_points_won, winner_return_points_total, winner_total_points_won, winner_total_points_total, loser_aces, loser_double_faults, loser_first_serves_in, loser_first_serves_total, loser_first_serve_points_won, loser_first_serve_points_total, loser_second_serve_points_won, loser_second_serve_points_total, loser_break_points_saved, loser_break_points_serve_total, loser_service_points_won, loser_service_points_total, loser_first_serve_return_won, loser_first_serve_return_total, loser_second_serve_return_won, loser_second_serve_return_total, loser_break_points_converted, loser_break_points_return_total, loser_service_games_played, loser_return_games_played, loser_return_points_won, loser_return_points_total, loser_total_points_won, loser_total_points_total, tourney_year_id, winner_player_id, match_score_tiebreaks, winner_sets_won, winner_games_won, winner_tiebreaks_won, winner_rank_number, winner_ranking_points, loser_player_id, loser_sets_won, loser_games_won, loser_tiebreaks_won, loser_rank_number, loser_ranking_points, winner_ace_pct, loser_ace_pct, winner_df_pct, loser_df_pct, winner_firstsrv_in_pct, loser_firstsrv_in_pct, winner_firstsrv_won_pct, loser_firstsrv_won_pct, winner_secondsrv_won_pct, loser_secondsrv_won_pct, winner_srv_pts_pct, loser_srv_pts_pct, winner_rtn_pts_pct, loser_rtn_pts_pct, winner_brk_pts_pct, loser_brk_pts_pct, winner_points_won_pct, loser_points_won_pct, ace_dif, df_dif, firstsrv_in_dif, firstsrv_won_dif, secondsrv_won_dif, srv_pts_dif, rtn_pts_dif, brk_pts_dif, total_points_pct_dif, rank_dif, Date, year, month, day]\n",
       "Index: []\n",
       "\n",
       "[0 rows x 96 columns]"
      ]
     },
     "execution_count": 70,
     "metadata": {},
     "output_type": "execute_result"
    }
   ],
   "source": [
    "breakpointerrors = matchstats1.loc[matchstats1['winner_break_points_converted'] > matchstats1['winner_break_points_return_total']]\n",
    "breakpointdf = pd.DataFrame(breakpointerrors)\n",
    "breakpointdf.head()"
   ]
  },
  {
   "cell_type": "code",
   "execution_count": 71,
   "metadata": {},
   "outputs": [
    {
     "data": {
      "text/html": [
       "<div>\n",
       "<style scoped>\n",
       "    .dataframe tbody tr th:only-of-type {\n",
       "        vertical-align: middle;\n",
       "    }\n",
       "\n",
       "    .dataframe tbody tr th {\n",
       "        vertical-align: top;\n",
       "    }\n",
       "\n",
       "    .dataframe thead th {\n",
       "        text-align: right;\n",
       "    }\n",
       "</style>\n",
       "<table border=\"1\" class=\"dataframe\">\n",
       "  <thead>\n",
       "    <tr style=\"text-align: right;\">\n",
       "      <th></th>\n",
       "      <th>match_id</th>\n",
       "      <th>match_duration</th>\n",
       "      <th>winner_aces</th>\n",
       "      <th>winner_double_faults</th>\n",
       "      <th>winner_first_serves_in</th>\n",
       "      <th>winner_first_serves_total</th>\n",
       "      <th>winner_first_serve_points_won</th>\n",
       "      <th>winner_first_serve_points_total</th>\n",
       "      <th>winner_second_serve_points_won</th>\n",
       "      <th>winner_second_serve_points_total</th>\n",
       "      <th>...</th>\n",
       "      <th>secondsrv_won_dif</th>\n",
       "      <th>srv_pts_dif</th>\n",
       "      <th>rtn_pts_dif</th>\n",
       "      <th>brk_pts_dif</th>\n",
       "      <th>total_points_pct_dif</th>\n",
       "      <th>rank_dif</th>\n",
       "      <th>Date</th>\n",
       "      <th>year</th>\n",
       "      <th>month</th>\n",
       "      <th>day</th>\n",
       "    </tr>\n",
       "  </thead>\n",
       "  <tbody>\n",
       "  </tbody>\n",
       "</table>\n",
       "<p>0 rows × 96 columns</p>\n",
       "</div>"
      ],
      "text/plain": [
       "Empty DataFrame\n",
       "Columns: [match_id, match_duration, winner_aces, winner_double_faults, winner_first_serves_in, winner_first_serves_total, winner_first_serve_points_won, winner_first_serve_points_total, winner_second_serve_points_won, winner_second_serve_points_total, winner_break_points_saved, winner_break_points_serve_total, winner_service_points_won, winner_service_points_total, winner_first_serve_return_won, winner_first_serve_return_total, winner_second_serve_return_won, winner_second_serve_return_total, winner_break_points_converted, winner_break_points_return_total, winner_service_games_played, winner_return_games_played, winner_return_points_won, winner_return_points_total, winner_total_points_won, winner_total_points_total, loser_aces, loser_double_faults, loser_first_serves_in, loser_first_serves_total, loser_first_serve_points_won, loser_first_serve_points_total, loser_second_serve_points_won, loser_second_serve_points_total, loser_break_points_saved, loser_break_points_serve_total, loser_service_points_won, loser_service_points_total, loser_first_serve_return_won, loser_first_serve_return_total, loser_second_serve_return_won, loser_second_serve_return_total, loser_break_points_converted, loser_break_points_return_total, loser_service_games_played, loser_return_games_played, loser_return_points_won, loser_return_points_total, loser_total_points_won, loser_total_points_total, tourney_year_id, winner_player_id, match_score_tiebreaks, winner_sets_won, winner_games_won, winner_tiebreaks_won, winner_rank_number, winner_ranking_points, loser_player_id, loser_sets_won, loser_games_won, loser_tiebreaks_won, loser_rank_number, loser_ranking_points, winner_ace_pct, loser_ace_pct, winner_df_pct, loser_df_pct, winner_firstsrv_in_pct, loser_firstsrv_in_pct, winner_firstsrv_won_pct, loser_firstsrv_won_pct, winner_secondsrv_won_pct, loser_secondsrv_won_pct, winner_srv_pts_pct, loser_srv_pts_pct, winner_rtn_pts_pct, loser_rtn_pts_pct, winner_brk_pts_pct, loser_brk_pts_pct, winner_points_won_pct, loser_points_won_pct, ace_dif, df_dif, firstsrv_in_dif, firstsrv_won_dif, secondsrv_won_dif, srv_pts_dif, rtn_pts_dif, brk_pts_dif, total_points_pct_dif, rank_dif, Date, year, month, day]\n",
       "Index: []\n",
       "\n",
       "[0 rows x 96 columns]"
      ]
     },
     "execution_count": 71,
     "metadata": {},
     "output_type": "execute_result"
    }
   ],
   "source": [
    "matchstats1.loc[matchstats1['brk_pts_dif'] > 100 ]"
   ]
  },
  {
   "cell_type": "markdown",
   "metadata": {},
   "source": [
    "### Export Completed File to csv format for use in EDA"
   ]
  },
  {
   "cell_type": "code",
   "execution_count": 72,
   "metadata": {},
   "outputs": [],
   "source": [
    "matchstats1.to_csv(r'data/matchstats.csv', index=False)"
   ]
  },
  {
   "cell_type": "code",
   "execution_count": 73,
   "metadata": {},
   "outputs": [],
   "source": [
    "results.to_csv(r'data/result.csv',index=False)"
   ]
  },
  {
   "cell_type": "code",
   "execution_count": null,
   "metadata": {},
   "outputs": [],
   "source": []
  }
 ],
 "metadata": {
  "kernelspec": {
   "display_name": "Python 3",
   "language": "python",
   "name": "python3"
  },
  "language_info": {
   "codemirror_mode": {
    "name": "ipython",
    "version": 3
   },
   "file_extension": ".py",
   "mimetype": "text/x-python",
   "name": "python",
   "nbconvert_exporter": "python",
   "pygments_lexer": "ipython3",
   "version": "3.7.4"
  }
 },
 "nbformat": 4,
 "nbformat_minor": 4
}
